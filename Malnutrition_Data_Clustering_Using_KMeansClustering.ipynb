{
 "cells": [
  {
   "cell_type": "markdown",
   "metadata": {},
   "source": [
    "## Clustering Analysis of Global Malnutrition Data by Country\n",
    "\n",
    "##### **Dataset:** https://www.kaggle.com/datasets/ruchi798/malnutrition-across-the-globe\n",
    "\n",
    "##### **Objective:** To cluster global malnutrition data as a foundation for generating future insights and informed strategies."
   ]
  },
  {
   "cell_type": "markdown",
   "metadata": {},
   "source": [
    "# Importing library and dataset"
   ]
  },
  {
   "cell_type": "code",
   "execution_count": 1,
   "metadata": {},
   "outputs": [],
   "source": [
    "import pandas as pd\n",
    "import numpy as np\n",
    "import seaborn as sns\n",
    "import matplotlib.pyplot as plt\n",
    "import warnings\n",
    "warnings.filterwarnings('ignore')"
   ]
  },
  {
   "cell_type": "code",
   "execution_count": 2,
   "metadata": {},
   "outputs": [],
   "source": [
    "df=pd.read_csv('country-wise-average.csv')"
   ]
  },
  {
   "cell_type": "markdown",
   "metadata": {},
   "source": [
    "# Data Understanding"
   ]
  },
  {
   "cell_type": "code",
   "execution_count": 3,
   "metadata": {},
   "outputs": [
    {
     "data": {
      "text/html": [
       "<div>\n",
       "<style scoped>\n",
       "    .dataframe tbody tr th:only-of-type {\n",
       "        vertical-align: middle;\n",
       "    }\n",
       "\n",
       "    .dataframe tbody tr th {\n",
       "        vertical-align: top;\n",
       "    }\n",
       "\n",
       "    .dataframe thead th {\n",
       "        text-align: right;\n",
       "    }\n",
       "</style>\n",
       "<table border=\"1\" class=\"dataframe\">\n",
       "  <thead>\n",
       "    <tr style=\"text-align: right;\">\n",
       "      <th></th>\n",
       "      <th>Country</th>\n",
       "      <th>Income Classification</th>\n",
       "      <th>Severe Wasting</th>\n",
       "      <th>Wasting</th>\n",
       "      <th>Overweight</th>\n",
       "      <th>Stunting</th>\n",
       "      <th>Underweight</th>\n",
       "      <th>U5 Population ('000s)</th>\n",
       "    </tr>\n",
       "  </thead>\n",
       "  <tbody>\n",
       "    <tr>\n",
       "      <th>0</th>\n",
       "      <td>AFGHANISTAN</td>\n",
       "      <td>0.0</td>\n",
       "      <td>3.033333</td>\n",
       "      <td>10.350000</td>\n",
       "      <td>5.125000</td>\n",
       "      <td>47.775000</td>\n",
       "      <td>30.375000</td>\n",
       "      <td>4918.561500</td>\n",
       "    </tr>\n",
       "    <tr>\n",
       "      <th>1</th>\n",
       "      <td>ALBANIA</td>\n",
       "      <td>2.0</td>\n",
       "      <td>4.075000</td>\n",
       "      <td>7.760000</td>\n",
       "      <td>20.800000</td>\n",
       "      <td>24.160000</td>\n",
       "      <td>7.700000</td>\n",
       "      <td>232.859800</td>\n",
       "    </tr>\n",
       "    <tr>\n",
       "      <th>2</th>\n",
       "      <td>ALGERIA</td>\n",
       "      <td>2.0</td>\n",
       "      <td>2.733333</td>\n",
       "      <td>5.942857</td>\n",
       "      <td>12.833333</td>\n",
       "      <td>19.571429</td>\n",
       "      <td>7.342857</td>\n",
       "      <td>3565.213143</td>\n",
       "    </tr>\n",
       "    <tr>\n",
       "      <th>3</th>\n",
       "      <td>ANGOLA</td>\n",
       "      <td>1.0</td>\n",
       "      <td>2.400000</td>\n",
       "      <td>6.933333</td>\n",
       "      <td>2.550000</td>\n",
       "      <td>42.633333</td>\n",
       "      <td>23.600000</td>\n",
       "      <td>3980.054000</td>\n",
       "    </tr>\n",
       "    <tr>\n",
       "      <th>4</th>\n",
       "      <td>ARGENTINA</td>\n",
       "      <td>2.0</td>\n",
       "      <td>0.200000</td>\n",
       "      <td>2.150000</td>\n",
       "      <td>11.125000</td>\n",
       "      <td>10.025000</td>\n",
       "      <td>2.600000</td>\n",
       "      <td>3613.651750</td>\n",
       "    </tr>\n",
       "  </tbody>\n",
       "</table>\n",
       "</div>"
      ],
      "text/plain": [
       "       Country  Income Classification  Severe Wasting    Wasting  Overweight  \\\n",
       "0  AFGHANISTAN                    0.0        3.033333  10.350000    5.125000   \n",
       "1      ALBANIA                    2.0        4.075000   7.760000   20.800000   \n",
       "2      ALGERIA                    2.0        2.733333   5.942857   12.833333   \n",
       "3       ANGOLA                    1.0        2.400000   6.933333    2.550000   \n",
       "4    ARGENTINA                    2.0        0.200000   2.150000   11.125000   \n",
       "\n",
       "    Stunting  Underweight  U5 Population ('000s)  \n",
       "0  47.775000    30.375000            4918.561500  \n",
       "1  24.160000     7.700000             232.859800  \n",
       "2  19.571429     7.342857            3565.213143  \n",
       "3  42.633333    23.600000            3980.054000  \n",
       "4  10.025000     2.600000            3613.651750  "
      ]
     },
     "execution_count": 3,
     "metadata": {},
     "output_type": "execute_result"
    }
   ],
   "source": [
    "df.head()"
   ]
  },
  {
   "cell_type": "code",
   "execution_count": 4,
   "metadata": {},
   "outputs": [
    {
     "data": {
      "text/plain": [
       "Index(['Country', 'Income Classification', 'Severe Wasting', 'Wasting',\n",
       "       'Overweight', 'Stunting', 'Underweight', 'U5 Population ('000s)'],\n",
       "      dtype='object')"
      ]
     },
     "execution_count": 4,
     "metadata": {},
     "output_type": "execute_result"
    }
   ],
   "source": [
    "df.columns"
   ]
  },
  {
   "cell_type": "code",
   "execution_count": 5,
   "metadata": {},
   "outputs": [
    {
     "data": {
      "text/plain": [
       "(152, 8)"
      ]
     },
     "execution_count": 5,
     "metadata": {},
     "output_type": "execute_result"
    }
   ],
   "source": [
    "df.shape"
   ]
  },
  {
   "cell_type": "code",
   "execution_count": 6,
   "metadata": {},
   "outputs": [
    {
     "name": "stdout",
     "output_type": "stream",
     "text": [
      "<class 'pandas.core.frame.DataFrame'>\n",
      "RangeIndex: 152 entries, 0 to 151\n",
      "Data columns (total 8 columns):\n",
      " #   Column                 Non-Null Count  Dtype  \n",
      "---  ------                 --------------  -----  \n",
      " 0   Country                152 non-null    object \n",
      " 1   Income Classification  152 non-null    float64\n",
      " 2   Severe Wasting         140 non-null    float64\n",
      " 3   Wasting                150 non-null    float64\n",
      " 4   Overweight             149 non-null    float64\n",
      " 5   Stunting               151 non-null    float64\n",
      " 6   Underweight            150 non-null    float64\n",
      " 7   U5 Population ('000s)  152 non-null    float64\n",
      "dtypes: float64(7), object(1)\n",
      "memory usage: 9.6+ KB\n"
     ]
    }
   ],
   "source": [
    "df.info()"
   ]
  },
  {
   "cell_type": "code",
   "execution_count": 7,
   "metadata": {},
   "outputs": [
    {
     "data": {
      "text/plain": [
       "Country                   0\n",
       "Income Classification     0\n",
       "Severe Wasting           12\n",
       "Wasting                   2\n",
       "Overweight                3\n",
       "Stunting                  1\n",
       "Underweight               2\n",
       "U5 Population ('000s)     0\n",
       "dtype: int64"
      ]
     },
     "execution_count": 7,
     "metadata": {},
     "output_type": "execute_result"
    }
   ],
   "source": [
    "df.isna().sum()"
   ]
  },
  {
   "cell_type": "code",
   "execution_count": 8,
   "metadata": {},
   "outputs": [],
   "source": [
    "df['Severe Wasting'].fillna(df['Severe Wasting'].median(), inplace=True)\n",
    "df['Wasting'].fillna(df['Severe Wasting'].median(), inplace=True)\n",
    "df['Overweight'].fillna(df['Overweight'].median(), inplace=True)\n",
    "df['Underweight'].fillna(df['Underweight'].median(), inplace=True)\n",
    "df['Stunting'].fillna(df['Stunting'].median(), inplace=True)"
   ]
  },
  {
   "cell_type": "code",
   "execution_count": 9,
   "metadata": {},
   "outputs": [
    {
     "data": {
      "text/plain": [
       "Country                  0\n",
       "Income Classification    0\n",
       "Severe Wasting           0\n",
       "Wasting                  0\n",
       "Overweight               0\n",
       "Stunting                 0\n",
       "Underweight              0\n",
       "U5 Population ('000s)    0\n",
       "dtype: int64"
      ]
     },
     "execution_count": 9,
     "metadata": {},
     "output_type": "execute_result"
    }
   ],
   "source": [
    "df.isna().sum()"
   ]
  },
  {
   "cell_type": "code",
   "execution_count": 10,
   "metadata": {},
   "outputs": [
    {
     "data": {
      "image/png": "[encoded data removed]",
      "text/plain": [
       "<Figure size 432x288 with 1 Axes>"
      ]
     },
     "metadata": {
      "needs_background": "light"
     },
     "output_type": "display_data"
    },
    {
     "data": {
      "image/png": "[encoded data removed]",
      "text/plain": [
       "<Figure size 432x288 with 1 Axes>"
      ]
     },
     "metadata": {
      "needs_background": "light"
     },
     "output_type": "display_data"
    }
   ],
   "source": [
    "plt.hist(df['Severe Wasting'], bins=20, color='skyblue', edgecolor='black')\n",
    "plt.xlabel('Percentage')\n",
    "plt.ylabel('Frequency')\n",
    "plt.title('Severe Wasting')\n",
    "plt.show()\n",
    "\n",
    "plt.hist(df['Wasting'], bins=20, color='skyblue', edgecolor='black')\n",
    "plt.xlabel('Percentage')\n",
    "plt.ylabel('Frequency')\n",
    "plt.title('Wasting')\n",
    "plt.show()"
   ]
  },
  {
   "cell_type": "code",
   "execution_count": 11,
   "metadata": {
    "scrolled": true
   },
   "outputs": [
    {
     "data": {
      "image/png": "[encoded data removed]",
      "text/plain": [
       "<Figure size 432x288 with 1 Axes>"
      ]
     },
     "metadata": {
      "needs_background": "light"
     },
     "output_type": "display_data"
    },
    {
     "data": {
      "image/png": "[encoded data removed]",
      "text/plain": [
       "<Figure size 432x288 with 1 Axes>"
      ]
     },
     "metadata": {
      "needs_background": "light"
     },
     "output_type": "display_data"
    }
   ],
   "source": [
    "plt.hist(df['Overweight'], bins=20, color='skyblue', edgecolor='black')\n",
    "plt.xlabel('Percentage')\n",
    "plt.ylabel('Frequency')\n",
    "plt.title('Overweight')\n",
    "plt.show()\n",
    "\n",
    "plt.hist(df['Underweight'], bins=20, color='skyblue', edgecolor='black')\n",
    "plt.xlabel('Percentage')\n",
    "plt.ylabel('Frequency')\n",
    "plt.title('Underweight')\n",
    "plt.show()"
   ]
  },
  {
   "cell_type": "code",
   "execution_count": 12,
   "metadata": {},
   "outputs": [
    {
     "data": {
      "image/png": "[encoded data removed]",
      "text/plain": [
       "<Figure size 432x288 with 1 Axes>"
      ]
     },
     "metadata": {
      "needs_background": "light"
     },
     "output_type": "display_data"
    }
   ],
   "source": [
    "plt.hist(df['Stunting'], bins=20, color='skyblue', edgecolor='black')\n",
    "plt.xlabel('Percentage')\n",
    "plt.ylabel('Frequency')\n",
    "plt.title('Stunting')\n",
    "plt.show()"
   ]
  },
  {
   "cell_type": "code",
   "execution_count": 13,
   "metadata": {},
   "outputs": [
    {
     "data": {
      "image/png": "[encoded data removed]",
      "text/plain": [
       "<Figure size 432x288 with 1 Axes>"
      ]
     },
     "metadata": {
      "needs_background": "light"
     },
     "output_type": "display_data"
    }
   ],
   "source": [
    "category_counts = df['Income Classification'].value_counts()\n",
    "\n",
    "# Create bar plot\n",
    "plt.bar(category_counts.index, category_counts.values, color='skyblue', edgecolor='black')\n",
    "\n",
    "# Add labels and title\n",
    "plt.xlabel('Categories')\n",
    "plt.ylabel('Frequency')\n",
    "plt.title('Income Classification')\n",
    "\n",
    "# Show the plot\n",
    "plt.show()\n"
   ]
  },
  {
   "cell_type": "markdown",
   "metadata": {},
   "source": [
    "## Checking Outliers of each variables"
   ]
  },
  {
   "cell_type": "code",
   "execution_count": 14,
   "metadata": {},
   "outputs": [
    {
     "data": {
      "text/plain": [
       "<AxesSubplot:>"
      ]
     },
     "execution_count": 14,
     "metadata": {},
     "output_type": "execute_result"
    },
    {
     "data": {
      "image/png": "[encoded data removed]",
      "text/plain": [
       "<Figure size 432x288 with 1 Axes>"
      ]
     },
     "metadata": {
      "needs_background": "light"
     },
     "output_type": "display_data"
    }
   ],
   "source": [
    "#Check Outliers\n",
    "df.boxplot(column=['Severe Wasting'])"
   ]
  },
  {
   "cell_type": "code",
   "execution_count": 15,
   "metadata": {},
   "outputs": [
    {
     "data": {
      "text/plain": [
       "<AxesSubplot:>"
      ]
     },
     "execution_count": 15,
     "metadata": {},
     "output_type": "execute_result"
    },
    {
     "data": {
      "image/png": "[encoded data removed]",
      "text/plain": [
       "<Figure size 432x288 with 1 Axes>"
      ]
     },
     "metadata": {
      "needs_background": "light"
     },
     "output_type": "display_data"
    }
   ],
   "source": [
    "df.boxplot(column=['Wasting'])"
   ]
  },
  {
   "cell_type": "code",
   "execution_count": 16,
   "metadata": {},
   "outputs": [
    {
     "data": {
      "text/plain": [
       "<AxesSubplot:>"
      ]
     },
     "execution_count": 16,
     "metadata": {},
     "output_type": "execute_result"
    },
    {
     "data": {
      "image/png": "[encoded data removed]",
      "text/plain": [
       "<Figure size 432x288 with 1 Axes>"
      ]
     },
     "metadata": {
      "needs_background": "light"
     },
     "output_type": "display_data"
    }
   ],
   "source": [
    "df.boxplot(column=['Overweight'])"
   ]
  },
  {
   "cell_type": "code",
   "execution_count": 17,
   "metadata": {},
   "outputs": [
    {
     "data": {
      "text/plain": [
       "<AxesSubplot:>"
      ]
     },
     "execution_count": 17,
     "metadata": {},
     "output_type": "execute_result"
    },
    {
     "data": {
      "image/png": "[encoded data removed]",
      "text/plain": [
       "<Figure size 432x288 with 1 Axes>"
      ]
     },
     "metadata": {
      "needs_background": "light"
     },
     "output_type": "display_data"
    }
   ],
   "source": [
    "df.boxplot(column=['Stunting'])"
   ]
  },
  {
   "cell_type": "code",
   "execution_count": 18,
   "metadata": {},
   "outputs": [
    {
     "data": {
      "text/plain": [
       "<AxesSubplot:>"
      ]
     },
     "execution_count": 18,
     "metadata": {},
     "output_type": "execute_result"
    },
    {
     "data": {
      "image/png": "[encoded data removed]",
      "text/plain": [
       "<Figure size 432x288 with 1 Axes>"
      ]
     },
     "metadata": {
      "needs_background": "light"
     },
     "output_type": "display_data"
    }
   ],
   "source": [
    "df.boxplot(column=['Underweight'])"
   ]
  },
  {
   "cell_type": "code",
   "execution_count": 19,
   "metadata": {},
   "outputs": [
    {
     "data": {
      "text/plain": [
       "2.0    54\n",
       "1.0    46\n",
       "0.0    31\n",
       "3.0    21\n",
       "Name: Income Classification, dtype: int64"
      ]
     },
     "execution_count": 19,
     "metadata": {},
     "output_type": "execute_result"
    }
   ],
   "source": [
    "df['Income Classification'].value_counts()"
   ]
  },
  {
   "cell_type": "code",
   "execution_count": 20,
   "metadata": {},
   "outputs": [
    {
     "name": "stdout",
     "output_type": "stream",
     "text": [
      "<class 'pandas.core.frame.DataFrame'>\n",
      "RangeIndex: 152 entries, 0 to 151\n",
      "Data columns (total 8 columns):\n",
      " #   Column                 Non-Null Count  Dtype  \n",
      "---  ------                 --------------  -----  \n",
      " 0   Country                152 non-null    object \n",
      " 1   Income Classification  152 non-null    float64\n",
      " 2   Severe Wasting         152 non-null    float64\n",
      " 3   Wasting                152 non-null    float64\n",
      " 4   Overweight             152 non-null    float64\n",
      " 5   Stunting               152 non-null    float64\n",
      " 6   Underweight            152 non-null    float64\n",
      " 7   U5 Population ('000s)  152 non-null    float64\n",
      "dtypes: float64(7), object(1)\n",
      "memory usage: 9.6+ KB\n"
     ]
    }
   ],
   "source": [
    "df.info()"
   ]
  },
  {
   "cell_type": "markdown",
   "metadata": {},
   "source": [
    "# Feature Engineering"
   ]
  },
  {
   "cell_type": "code",
   "execution_count": 21,
   "metadata": {},
   "outputs": [],
   "source": [
    "from sklearn.preprocessing import MinMaxScaler\n",
    "df_input=df.drop('Country', axis = 1)\n",
    "scaler = MinMaxScaler()\n",
    "df_input = scaler.fit_transform(df_input)"
   ]
  },
  {
   "cell_type": "markdown",
   "metadata": {},
   "source": [
    "# Machine Learning Model"
   ]
  },
  {
   "cell_type": "code",
   "execution_count": 22,
   "metadata": {},
   "outputs": [],
   "source": [
    "import matplotlib.pyplot as plt \n",
    "from sklearn.cluster import KMeans\n",
    "from sklearn.metrics import silhouette_score"
   ]
  },
  {
   "cell_type": "code",
   "execution_count": 23,
   "metadata": {},
   "outputs": [
    {
     "name": "stdout",
     "output_type": "stream",
     "text": [
      "For n_clusters = 2 The average silhouette_score is : 0.43478849425209853\n",
      "For n_clusters = 3 The average silhouette_score is : 0.33823858784467603\n",
      "For n_clusters = 4 The average silhouette_score is : 0.25285191448689875\n",
      "For n_clusters = 5 The average silhouette_score is : 0.26809910794431313\n",
      "For n_clusters = 6 The average silhouette_score is : 0.2695199854456539\n",
      "For n_clusters = 7 The average silhouette_score is : 0.2851082814695123\n",
      "For n_clusters = 8 The average silhouette_score is : 0.2767278241572059\n",
      "For n_clusters = 9 The average silhouette_score is : 0.25731966871520734\n"
     ]
    }
   ],
   "source": [
    "distortions = []\n",
    "K = range(2,10)\n",
    "for k in K:\n",
    "    kmeanModel = KMeans(n_clusters=k)\n",
    "    cluster_label=kmeanModel.fit_predict(df_input)\n",
    "    #calculate silhouette_score for each cluster\n",
    "    silhouette_avg = silhouette_score(df_input, cluster_label)\n",
    "    print(\n",
    "        \"For n_clusters =\",k,\n",
    "        \"The average silhouette_score is :\",silhouette_avg,\n",
    "        )\n",
    "    #kmeans inertia_ attribute is:  sum of squared distances of samples #to their closest cluster center.\n",
    "    distortions.append(kmeanModel.inertia_)"
   ]
  },
  {
   "cell_type": "code",
   "execution_count": 24,
   "metadata": {},
   "outputs": [
    {
     "data": {
      "image/png": "[encoded data removed]",
      "text/plain": [
       "<Figure size 1152x576 with 1 Axes>"
      ]
     },
     "metadata": {
      "needs_background": "light"
     },
     "output_type": "display_data"
    }
   ],
   "source": [
    "plt.figure(figsize=(16,8))\n",
    "plt.plot(K, distortions, 'bx-')\n",
    "plt.xlabel('k')\n",
    "plt.ylabel('Distortion')\n",
    "plt.title('The Elbow Method showing the optimal k')\n",
    "plt.show()"
   ]
  },
  {
   "cell_type": "code",
   "execution_count": 25,
   "metadata": {},
   "outputs": [
    {
     "data": {
      "image/png": "[encoded data removed]",
      "text/plain": [
       "<Figure size 720x432 with 1 Axes>"
      ]
     },
     "metadata": {
      "needs_background": "light"
     },
     "output_type": "display_data"
    }
   ],
   "source": [
    "import matplotlib.pyplot as plt\n",
    "from sklearn.cluster import KMeans\n",
    "from sklearn.metrics import silhouette_score\n",
    "\n",
    "distortions = []\n",
    "silhouette_scores = []\n",
    "K = range(2, 10)\n",
    "\n",
    "for k in K:\n",
    "    kmeanModel = KMeans(n_clusters=k)\n",
    "    cluster_label = kmeanModel.fit_predict(df_input)\n",
    "    \n",
    "    silhouette_avg = silhouette_score(df_input, cluster_label)\n",
    "    silhouette_scores.append(silhouette_avg)\n",
    "\n",
    "    distortions.append(kmeanModel.inertia_)\n",
    "\n",
    "plt.figure(figsize=(10, 6))\n",
    "plt.plot(K, silhouette_scores, 'bx-')\n",
    "plt.xlabel('Number of Clusters (K)')\n",
    "plt.ylabel('Average Silhouette Score')\n",
    "plt.title('Silhouette Analysis for Optimal K')\n",
    "plt.show()"
   ]
  },
  {
   "cell_type": "code",
   "execution_count": 26,
   "metadata": {},
   "outputs": [
    {
     "name": "stdout",
     "output_type": "stream",
     "text": [
      "Silhouette Score: 0.2602984602280413\n",
      "Calinski-Harabasz Index: 79.1983167221268\n",
      "Davies-Bouldin Index: 1.2307731478417672\n"
     ]
    }
   ],
   "source": [
    "from sklearn.cluster import KMeans\n",
    "from sklearn.metrics import silhouette_score, calinski_harabasz_score, davies_bouldin_score\n",
    "\n",
    "kmeans = KMeans(n_clusters=6)\n",
    "kmeans.fit(df_input)\n",
    "\n",
    "silhouette = silhouette_score(df_input, kmeans.labels_)\n",
    "calinski_harabasz = calinski_harabasz_score(df_input, kmeans.labels_)\n",
    "davies_bouldin = davies_bouldin_score(df_input, kmeans.labels_)\n",
    "\n",
    "print(f\"Silhouette Score: {silhouette}\")\n",
    "print(f\"Calinski-Harabasz Index: {calinski_harabasz}\")\n",
    "print(f\"Davies-Bouldin Index: {davies_bouldin}\")\n"
   ]
  },
  {
   "cell_type": "code",
   "execution_count": 27,
   "metadata": {},
   "outputs": [
    {
     "data": {
      "text/plain": [
       "KMeans(n_clusters=3)"
      ]
     },
     "execution_count": 27,
     "metadata": {},
     "output_type": "execute_result"
    }
   ],
   "source": [
    "kmeanModel = KMeans(n_clusters=3)\n",
    "kmeanModel.fit(df_input)"
   ]
  },
  {
   "cell_type": "code",
   "execution_count": 28,
   "metadata": {},
   "outputs": [],
   "source": [
    "df['k_means']=kmeanModel.predict(df_input)"
   ]
  },
  {
   "cell_type": "code",
   "execution_count": 29,
   "metadata": {
    "scrolled": true
   },
   "outputs": [
    {
     "data": {
      "text/plain": [
       "0    75\n",
       "2    49\n",
       "1    28\n",
       "Name: k_means, dtype: int64"
      ]
     },
     "execution_count": 29,
     "metadata": {},
     "output_type": "execute_result"
    }
   ],
   "source": [
    "df['k_means'].value_counts()"
   ]
  },
  {
   "cell_type": "code",
   "execution_count": 30,
   "metadata": {
    "tags": []
   },
   "outputs": [
    {
     "data": {
      "text/plain": [
       "KMeans(n_clusters=6)"
      ]
     },
     "execution_count": 30,
     "metadata": {},
     "output_type": "execute_result"
    }
   ],
   "source": [
    "kmeanModel = KMeans(n_clusters=6)\n",
    "kmeanModel.fit(df_input)"
   ]
  },
  {
   "cell_type": "code",
   "execution_count": 31,
   "metadata": {
    "tags": []
   },
   "outputs": [],
   "source": [
    "df['k_means']=kmeanModel.predict(df_input)"
   ]
  },
  {
   "cell_type": "code",
   "execution_count": 32,
   "metadata": {
    "tags": []
   },
   "outputs": [
    {
     "data": {
      "text/plain": [
       "4    38\n",
       "3    33\n",
       "1    29\n",
       "2    21\n",
       "5    19\n",
       "0    12\n",
       "Name: k_means, dtype: int64"
      ]
     },
     "execution_count": 32,
     "metadata": {},
     "output_type": "execute_result"
    }
   ],
   "source": [
    "df['k_means'].value_counts()"
   ]
  },
  {
   "cell_type": "code",
   "execution_count": 60,
   "metadata": {},
   "outputs": [
    {
     "data": {
      "application/vnd.plotly.v1+json": {
       "config": {
        "plotlyServerURL": "https://plot.ly"
       },
       "data": [
        {
         "hovertemplate": "Cluster=%{marker.color}<br>Principal Component 1=%{x}<br>Principal Component 2=%{y}<extra></extra>",
         "legendgroup": "3",
         "marker": {
          "color": [
           3,
           3,
           3,
           3,
           3,
           3,
           3,
           3,
           3,
           3,
           3,
           3,
           3,
           3,
           3,
           3,
           3,
           3,
           3,
           3,
           3
          ],
          "coloraxis": "coloraxis",
          "opacity": 0.7,
          "symbol": "circle"
         },
         "mode": "markers",
         "name": "3",
         "orientation": "v",
         "showlegend": true,
         "type": "scatter",
         "x": [
          0.7328982727630546,
          0.4936001582938095,
          0.6205904361751787,
          0.7821120366065731,
          0.5884786926161603,
          0.5707114804224007,
          0.7004486406739814,
          0.3545979899462529,
          0.49771715349415074,
          0.45602775467865203,
          0.38187910590196383,
          0.4428361637910012,
          0.5008256054180912,
          0.573824448491668,
          0.46815258424690326,
          0.5089404037050277,
          0.2986738954407383,
          0.3710351968318141,
          0.43460382275175236,
          0.4022383330565049,
          0.45626944144074094
         ],
         "xaxis": "x",
         "y": [
          -0.06775318874228126,
          -0.1944846457483548,
          -0.01452018210189967,
          -0.13123607062566803,
          -0.16335735932761616,
          -0.16070716447260122,
          -0.06324038281926225,
          -0.2224921972361561,
          -0.17222665953050575,
          -0.24168456222126772,
          -0.2674160538221461,
          -0.2790545486887702,
          -0.3499186452595197,
          -0.24663362546540354,
          -0.3518903421478843,
          -0.20249569642719964,
          -0.34883782794585594,
          -0.30420815723582056,
          -0.21495076743757743,
          -0.3359195558228173,
          -0.3037837871655545
         ],
         "yaxis": "y"
        },
        {
         "hovertemplate": "Cluster=%{marker.color}<br>Principal Component 1=%{x}<br>Principal Component 2=%{y}<extra></extra>",
         "legendgroup": "4",
         "marker": {
          "color": [
           4,
           4,
           4,
           4,
           4,
           4,
           4,
           4,
           4,
           4,
           4,
           4,
           4,
           4,
           4,
           4,
           4,
           4,
           4,
           4,
           4,
           4,
           4,
           4,
           4,
           4,
           4,
           4,
           4,
           4,
           4,
           4,
           4,
           4,
           4,
           4,
           4,
           4,
           4,
           4,
           4,
           4,
           4,
           4,
           4
          ],
          "coloraxis": "coloraxis",
          "opacity": 0.7,
          "symbol": "diamond"
         },
         "mode": "markers",
         "name": "4",
         "orientation": "v",
         "showlegend": true,
         "type": "scatter",
         "x": [
          -0.2310985473654304,
          -0.26813476876026754,
          -0.4817121669872854,
          -0.38898038182262196,
          -0.22663325305591583,
          -0.5278472819665746,
          -0.354628766941635,
          -0.46803838669132075,
          -0.3938490070839148,
          -0.4417064167023664,
          -0.25388031700429264,
          -0.3375200779988775,
          -0.4758923966089407,
          -0.4375888889716023,
          -0.39317564795687804,
          -0.21564436066312614,
          -0.3273646553456768,
          -0.2580357693566766,
          -0.4920148899540952,
          -0.18022176945474394,
          -0.28558083410886087,
          -0.20493104655156727,
          -0.41852395460508635,
          -0.40694627164135616,
          -0.3664736280985239,
          -0.38666849035606793,
          -0.24732693732560476,
          -0.30432179788750785,
          -0.5141720915463193,
          -0.2958338938502545,
          -0.510825675116583,
          -0.4527148119807517,
          -0.36217951027193107,
          -0.38849761391049503,
          -0.48702752653976267,
          -0.46280072222136825,
          -0.5120210955778605,
          -0.16881047438030222,
          -0.30413867794825,
          -0.21166089614923847,
          -0.5275062778661588,
          -0.39132940330359883,
          -0.23241042504223836,
          -0.43383747569716324,
          -0.3086941922611701
         ],
         "xaxis": "x",
         "y": [
          0.0011584782822257774,
          0.021221717321179986,
          -0.13035143428953258,
          -0.08814743411267068,
          0.049005963969526195,
          -0.1197986360851764,
          -0.07820534035694236,
          -0.13536107621600513,
          -0.03769390221729467,
          -0.039475555334842156,
          0.1064669441726682,
          -0.041299250989375744,
          -0.08255221586588508,
          -0.03269720098803848,
          -0.0513484821273503,
          -0.019359372284940758,
          0.12648568395482632,
          0.014559429582793404,
          -0.20485900382699956,
          0.18554054865763348,
          0.06625379317437607,
          0.04597997846656169,
          -0.028788285765584128,
          -0.0486763972716337,
          -0.03863013277242361,
          -0.10170582079978242,
          -0.051829299953834874,
          -0.006941269183229875,
          -0.16588435432083862,
          -0.0519459949791358,
          -0.1465511032975128,
          -0.1280222174252622,
          -0.11998675242945187,
          -0.04519996834857933,
          -0.040943623093888895,
          -0.04548698187979574,
          -0.13737945275438562,
          0.028287381233203752,
          0.08193336907334865,
          0.10687066007501819,
          -0.14038496136162987,
          -0.06410507297072647,
          0.07799076347955877,
          -0.05568473822251763,
          0.02091580102887939
         ],
         "yaxis": "y"
        },
        {
         "hovertemplate": "Cluster=%{marker.color}<br>Principal Component 1=%{x}<br>Principal Component 2=%{y}<extra></extra>",
         "legendgroup": "5",
         "marker": {
          "color": [
           5,
           5,
           5,
           5,
           5,
           5,
           5,
           5,
           5,
           5,
           5,
           5,
           5,
           5,
           5,
           5,
           5,
           5,
           5,
           5,
           5,
           5,
           5,
           5,
           5,
           5,
           5
          ],
          "coloraxis": "coloraxis",
          "opacity": 0.7,
          "symbol": "square"
         },
         "mode": "markers",
         "name": "5",
         "orientation": "v",
         "showlegend": true,
         "type": "scatter",
         "x": [
          0.37803052622582023,
          0.2682513398564096,
          -0.05630507616009731,
          0.1469685760497217,
          0.3324805336204721,
          0.11948291541303539,
          0.23464185977297863,
          -0.07919506519359233,
          0.19791916107022342,
          0.1253567116081234,
          0.4101488145620447,
          0.23219019816811756,
          0.17605218066517192,
          0.19560228415857334,
          -0.06255500573004717,
          0.29173733544612773,
          -0.08973395153796748,
          0.42481519167729964,
          -0.001150116166670175,
          0.015616008338619092,
          0.3972181332468177,
          0.3193136321514627,
          0.1380177595737717,
          0.19338176964041254,
          0.13849686165292763,
          0.3197694081844121,
          0.3144514770976352
         ],
         "xaxis": "x",
         "y": [
          0.050472280648372295,
          -0.10047570944072598,
          0.14755693769295838,
          -0.12253323639581676,
          0.035530706577790554,
          -0.06276742437642495,
          0.019504717446483265,
          0.06343957862180678,
          -0.0035972065000431683,
          0.08388840691796305,
          0.1549017269619938,
          -0.052598571227646794,
          -0.09130430611134181,
          -0.13681772764123004,
          0.27074390309437885,
          0.5332280512419,
          0.06302747889053768,
          0.21484017891795532,
          0.343341561281523,
          0.2510872877455098,
          0.025273908345125932,
          0.05106942319778387,
          0.0027831365165214847,
          -0.041554317644090025,
          0.48371770932508945,
          0.0725180134635147,
          -0.08641048792950722
         ],
         "yaxis": "y"
        },
        {
         "hovertemplate": "Cluster=%{marker.color}<br>Principal Component 1=%{x}<br>Principal Component 2=%{y}<extra></extra>",
         "legendgroup": "2",
         "marker": {
          "color": [
           2,
           2,
           2,
           2,
           2,
           2,
           2,
           2,
           2,
           2,
           2,
           2,
           2,
           2,
           2,
           2,
           2,
           2,
           2,
           2,
           2
          ],
          "coloraxis": "coloraxis",
          "opacity": 0.7,
          "symbol": "x"
         },
         "mode": "markers",
         "name": "2",
         "orientation": "v",
         "showlegend": true,
         "type": "scatter",
         "x": [
          -0.8407079236661901,
          -0.4976326032615932,
          -0.6136728675372182,
          -0.498295711170108,
          -0.4524574291823033,
          -0.7572675885360542,
          -0.6893712219973765,
          -0.7483575239137792,
          -0.6365085592210525,
          -0.7032237732248764,
          -0.3904639329424875,
          -0.5715377536111133,
          -0.6160244713872796,
          -0.617389973083509,
          -0.7563648799753965,
          -0.37917593086019463,
          -0.6335401011810554,
          -0.6484251909510097,
          -0.5948232338791615,
          -0.7599254333635872,
          -0.599507338284909
         ],
         "xaxis": "x",
         "y": [
          0.002948768672309136,
          0.29443782030384086,
          0.2204574870149111,
          0.20397029053737922,
          0.2049886196220486,
          0.08663174504679805,
          0.19281092828886093,
          0.1360214522448638,
          0.21284113721710077,
          0.14381310177440848,
          0.39547445282136506,
          0.12301785185365592,
          0.25159524552322443,
          0.15973970789562375,
          0.10756948270881844,
          0.4319038985401707,
          0.19152803406156618,
          0.2256166637253789,
          0.25469033555236775,
          0.10995359093307668,
          0.1525047608974833
         ],
         "yaxis": "y"
        },
        {
         "hovertemplate": "Cluster=%{marker.color}<br>Principal Component 1=%{x}<br>Principal Component 2=%{y}<extra></extra>",
         "legendgroup": "1",
         "marker": {
          "color": [
           1,
           1,
           1,
           1,
           1,
           1,
           1,
           1,
           1,
           1,
           1,
           1,
           1,
           1,
           1,
           1,
           1,
           1,
           1,
           1
          ],
          "coloraxis": "coloraxis",
          "opacity": 0.7,
          "symbol": "cross"
         },
         "mode": "markers",
         "name": "1",
         "orientation": "v",
         "showlegend": true,
         "type": "scatter",
         "x": [
          0.8266638812732774,
          0.5442790420874765,
          0.8038961615015147,
          0.4691018759445168,
          0.9571537052808302,
          0.7533781026941632,
          0.8782562096420667,
          0.5310590303807583,
          0.8130114826992321,
          0.6577949202489012,
          0.4863487219876352,
          0.8528816191915086,
          0.9138045309106693,
          0.4720053262190818,
          0.6373363852962063,
          0.649575667839266,
          0.8983076403277366,
          0.5383779598228038,
          0.8276120076787955,
          0.9471507585601374
         ],
         "xaxis": "x",
         "y": [
          0.4318417123153483,
          0.2262391760044235,
          0.10850137049206625,
          0.329567889988125,
          0.1416983168229267,
          -0.03374323720743602,
          0.6667087158165615,
          0.19748872738198064,
          -0.03410535711315487,
          0.015830156430955537,
          0.13960945158745883,
          0.018612571811557413,
          0.17194199980280883,
          0.22209631624746393,
          0.3239811137623463,
          0.03473406664382211,
          0.3333554506921138,
          0.3180047051952109,
          0.41920859311570535,
          0.14160059384111692
         ],
         "yaxis": "y"
        },
        {
         "hovertemplate": "Cluster=%{marker.color}<br>Principal Component 1=%{x}<br>Principal Component 2=%{y}<extra></extra>",
         "legendgroup": "0",
         "marker": {
          "color": [
           0,
           0,
           0,
           0,
           0,
           0,
           0,
           0,
           0,
           0,
           0,
           0,
           0,
           0,
           0,
           0,
           0,
           0
          ],
          "coloraxis": "coloraxis",
          "opacity": 0.7,
          "symbol": "circle"
         },
         "mode": "markers",
         "name": "0",
         "orientation": "v",
         "showlegend": true,
         "type": "scatter",
         "x": [
          -0.03294603936361494,
          0.051850269198590024,
          0.016873399287761805,
          -0.039575322834845474,
          -0.03812562328292905,
          0.11635617003680475,
          -0.13496082383341396,
          -0.12576206946371563,
          -0.050298997707480635,
          -0.07168586192760525,
          -0.21991385149104845,
          0.08506759471911314,
          -0.2071763097761894,
          -0.19947261306483677,
          -0.11114202683986533,
          -0.007821508281654233,
          0.07119973939857187,
          0.0659486816620726
         ],
         "xaxis": "x",
         "y": [
          -0.2901021923835216,
          -0.12461997146560531,
          -0.21047272984421392,
          -0.2571356022589529,
          -0.33302132785694155,
          -0.19741162561925632,
          -0.29241709000799654,
          -0.3011442959530799,
          -0.23822574600043936,
          -0.2685643196861857,
          -0.2587828460264378,
          -0.13462932119495397,
          -0.27993629528888214,
          -0.28590157168974384,
          -0.3159180237606096,
          -0.17782748190550263,
          -0.12191426326450237,
          -0.17309278498258393
         ],
         "yaxis": "y"
        }
       ],
       "layout": {
        "coloraxis": {
         "colorbar": {
          "title": {
           "text": "Cluster"
          }
         },
         "colorscale": [
          [
           0,
           "#0d0887"
          ],
          [
           0.1111111111111111,
           "#46039f"
          ],
          [
           0.2222222222222222,
           "#7201a8"
          ],
          [
           0.3333333333333333,
           "#9c179e"
          ],
          [
           0.4444444444444444,
           "#bd3786"
          ],
          [
           0.5555555555555556,
           "#d8576b"
          ],
          [
           0.6666666666666666,
           "#ed7953"
          ],
          [
           0.7777777777777778,
           "#fb9f3a"
          ],
          [
           0.8888888888888888,
           "#fdca26"
          ],
          [
           1,
           "#f0f921"
          ]
         ]
        },
        "legend": {
         "title": {
          "text": "Cluster"
         },
         "tracegroupgap": 0
        },
        "template": {
         "data": {
          "bar": [
           {
            "error_x": {
             "color": "#2a3f5f"
            },
            "error_y": {
             "color": "#2a3f5f"
            },
            "marker": {
             "line": {
              "color": "#E5ECF6",
              "width": 0.5
             },
             "pattern": {
              "fillmode": "overlay",
              "size": 10,
              "solidity": 0.2
             }
            },
            "type": "bar"
           }
          ],
          "barpolar": [
           {
            "marker": {
             "line": {
              "color": "#E5ECF6",
              "width": 0.5
             },
             "pattern": {
              "fillmode": "overlay",
              "size": 10,
              "solidity": 0.2
             }
            },
            "type": "barpolar"
           }
          ],
          "carpet": [
           {
            "aaxis": {
             "endlinecolor": "#2a3f5f",
             "gridcolor": "white",
             "linecolor": "white",
             "minorgridcolor": "white",
             "startlinecolor": "#2a3f5f"
            },
            "baxis": {
             "endlinecolor": "#2a3f5f",
             "gridcolor": "white",
             "linecolor": "white",
             "minorgridcolor": "white",
             "startlinecolor": "#2a3f5f"
            },
            "type": "carpet"
           }
          ],
          "choropleth": [
           {
            "colorbar": {
             "outlinewidth": 0,
             "ticks": ""
            },
            "type": "choropleth"
           }
          ],
          "contour": [
           {
            "colorbar": {
             "outlinewidth": 0,
             "ticks": ""
            },
            "colorscale": [
             [
              0,
              "#0d0887"
             ],
             [
              0.1111111111111111,
              "#46039f"
             ],
             [
              0.2222222222222222,
              "#7201a8"
             ],
             [
              0.3333333333333333,
              "#9c179e"
             ],
             [
              0.4444444444444444,
              "#bd3786"
             ],
             [
              0.5555555555555556,
              "#d8576b"
             ],
             [
              0.6666666666666666,
              "#ed7953"
             ],
             [
              0.7777777777777778,
              "#fb9f3a"
             ],
             [
              0.8888888888888888,
              "#fdca26"
             ],
             [
              1,
              "#f0f921"
             ]
            ],
            "type": "contour"
           }
          ],
          "contourcarpet": [
           {
            "colorbar": {
             "outlinewidth": 0,
             "ticks": ""
            },
            "type": "contourcarpet"
           }
          ],
          "heatmap": [
           {
            "colorbar": {
             "outlinewidth": 0,
             "ticks": ""
            },
            "colorscale": [
             [
              0,
              "#0d0887"
             ],
             [
              0.1111111111111111,
              "#46039f"
             ],
             [
              0.2222222222222222,
              "#7201a8"
             ],
             [
              0.3333333333333333,
              "#9c179e"
             ],
             [
              0.4444444444444444,
              "#bd3786"
             ],
             [
              0.5555555555555556,
              "#d8576b"
             ],
             [
              0.6666666666666666,
              "#ed7953"
             ],
             [
              0.7777777777777778,
              "#fb9f3a"
             ],
             [
              0.8888888888888888,
              "#fdca26"
             ],
             [
              1,
              "#f0f921"
             ]
            ],
            "type": "heatmap"
           }
          ],
          "heatmapgl": [
           {
            "colorbar": {
             "outlinewidth": 0,
             "ticks": ""
            },
            "colorscale": [
             [
              0,
              "#0d0887"
             ],
             [
              0.1111111111111111,
              "#46039f"
             ],
             [
              0.2222222222222222,
              "#7201a8"
             ],
             [
              0.3333333333333333,
              "#9c179e"
             ],
             [
              0.4444444444444444,
              "#bd3786"
             ],
             [
              0.5555555555555556,
              "#d8576b"
             ],
             [
              0.6666666666666666,
              "#ed7953"
             ],
             [
              0.7777777777777778,
              "#fb9f3a"
             ],
             [
              0.8888888888888888,
              "#fdca26"
             ],
             [
              1,
              "#f0f921"
             ]
            ],
            "type": "heatmapgl"
           }
          ],
          "histogram": [
           {
            "marker": {
             "pattern": {
              "fillmode": "overlay",
              "size": 10,
              "solidity": 0.2
             }
            },
            "type": "histogram"
           }
          ],
          "histogram2d": [
           {
            "colorbar": {
             "outlinewidth": 0,
             "ticks": ""
            },
            "colorscale": [
             [
              0,
              "#0d0887"
             ],
             [
              0.1111111111111111,
              "#46039f"
             ],
             [
              0.2222222222222222,
              "#7201a8"
             ],
             [
              0.3333333333333333,
              "#9c179e"
             ],
             [
              0.4444444444444444,
              "#bd3786"
             ],
             [
              0.5555555555555556,
              "#d8576b"
             ],
             [
              0.6666666666666666,
              "#ed7953"
             ],
             [
              0.7777777777777778,
              "#fb9f3a"
             ],
             [
              0.8888888888888888,
              "#fdca26"
             ],
             [
              1,
              "#f0f921"
             ]
            ],
            "type": "histogram2d"
           }
          ],
          "histogram2dcontour": [
           {
            "colorbar": {
             "outlinewidth": 0,
             "ticks": ""
            },
            "colorscale": [
             [
              0,
              "#0d0887"
             ],
             [
              0.1111111111111111,
              "#46039f"
             ],
             [
              0.2222222222222222,
              "#7201a8"
             ],
             [
              0.3333333333333333,
              "#9c179e"
             ],
             [
              0.4444444444444444,
              "#bd3786"
             ],
             [
              0.5555555555555556,
              "#d8576b"
             ],
             [
              0.6666666666666666,
              "#ed7953"
             ],
             [
              0.7777777777777778,
              "#fb9f3a"
             ],
             [
              0.8888888888888888,
              "#fdca26"
             ],
             [
              1,
              "#f0f921"
             ]
            ],
            "type": "histogram2dcontour"
           }
          ],
          "mesh3d": [
           {
            "colorbar": {
             "outlinewidth": 0,
             "ticks": ""
            },
            "type": "mesh3d"
           }
          ],
          "parcoords": [
           {
            "line": {
             "colorbar": {
              "outlinewidth": 0,
              "ticks": ""
             }
            },
            "type": "parcoords"
           }
          ],
          "pie": [
           {
            "automargin": true,
            "type": "pie"
           }
          ],
          "scatter": [
           {
            "marker": {
             "colorbar": {
              "outlinewidth": 0,
              "ticks": ""
             }
            },
            "type": "scatter"
           }
          ],
          "scatter3d": [
           {
            "line": {
             "colorbar": {
              "outlinewidth": 0,
              "ticks": ""
             }
            },
            "marker": {
             "colorbar": {
              "outlinewidth": 0,
              "ticks": ""
             }
            },
            "type": "scatter3d"
           }
          ],
          "scattercarpet": [
           {
            "marker": {
             "colorbar": {
              "outlinewidth": 0,
              "ticks": ""
             }
            },
            "type": "scattercarpet"
           }
          ],
          "scattergeo": [
           {
            "marker": {
             "colorbar": {
              "outlinewidth": 0,
              "ticks": ""
             }
            },
            "type": "scattergeo"
           }
          ],
          "scattergl": [
           {
            "marker": {
             "colorbar": {
              "outlinewidth": 0,
              "ticks": ""
             }
            },
            "type": "scattergl"
           }
          ],
          "scattermapbox": [
           {
            "marker": {
             "colorbar": {
              "outlinewidth": 0,
              "ticks": ""
             }
            },
            "type": "scattermapbox"
           }
          ],
          "scatterpolar": [
           {
            "marker": {
             "colorbar": {
              "outlinewidth": 0,
              "ticks": ""
             }
            },
            "type": "scatterpolar"
           }
          ],
          "scatterpolargl": [
           {
            "marker": {
             "colorbar": {
              "outlinewidth": 0,
              "ticks": ""
             }
            },
            "type": "scatterpolargl"
           }
          ],
          "scatterternary": [
           {
            "marker": {
             "colorbar": {
              "outlinewidth": 0,
              "ticks": ""
             }
            },
            "type": "scatterternary"
           }
          ],
          "surface": [
           {
            "colorbar": {
             "outlinewidth": 0,
             "ticks": ""
            },
            "colorscale": [
             [
              0,
              "#0d0887"
             ],
             [
              0.1111111111111111,
              "#46039f"
             ],
             [
              0.2222222222222222,
              "#7201a8"
             ],
             [
              0.3333333333333333,
              "#9c179e"
             ],
             [
              0.4444444444444444,
              "#bd3786"
             ],
             [
              0.5555555555555556,
              "#d8576b"
             ],
             [
              0.6666666666666666,
              "#ed7953"
             ],
             [
              0.7777777777777778,
              "#fb9f3a"
             ],
             [
              0.8888888888888888,
              "#fdca26"
             ],
             [
              1,
              "#f0f921"
             ]
            ],
            "type": "surface"
           }
          ],
          "table": [
           {
            "cells": {
             "fill": {
              "color": "#EBF0F8"
             },
             "line": {
              "color": "white"
             }
            },
            "header": {
             "fill": {
              "color": "#C8D4E3"
             },
             "line": {
              "color": "white"
             }
            },
            "type": "table"
           }
          ]
         },
         "layout": {
          "annotationdefaults": {
           "arrowcolor": "#2a3f5f",
           "arrowhead": 0,
           "arrowwidth": 1
          },
          "autotypenumbers": "strict",
          "coloraxis": {
           "colorbar": {
            "outlinewidth": 0,
            "ticks": ""
           }
          },
          "colorscale": {
           "diverging": [
            [
             0,
             "#8e0152"
            ],
            [
             0.1,
             "#c51b7d"
            ],
            [
             0.2,
             "#de77ae"
            ],
            [
             0.3,
             "#f1b6da"
            ],
            [
             0.4,
             "#fde0ef"
            ],
            [
             0.5,
             "#f7f7f7"
            ],
            [
             0.6,
             "#e6f5d0"
            ],
            [
             0.7,
             "#b8e186"
            ],
            [
             0.8,
             "#7fbc41"
            ],
            [
             0.9,
             "#4d9221"
            ],
            [
             1,
             "#276419"
            ]
           ],
           "sequential": [
            [
             0,
             "#0d0887"
            ],
            [
             0.1111111111111111,
             "#46039f"
            ],
            [
             0.2222222222222222,
             "#7201a8"
            ],
            [
             0.3333333333333333,
             "#9c179e"
            ],
            [
             0.4444444444444444,
             "#bd3786"
            ],
            [
             0.5555555555555556,
             "#d8576b"
            ],
            [
             0.6666666666666666,
             "#ed7953"
            ],
            [
             0.7777777777777778,
             "#fb9f3a"
            ],
            [
             0.8888888888888888,
             "#fdca26"
            ],
            [
             1,
             "#f0f921"
            ]
           ],
           "sequentialminus": [
            [
             0,
             "#0d0887"
            ],
            [
             0.1111111111111111,
             "#46039f"
            ],
            [
             0.2222222222222222,
             "#7201a8"
            ],
            [
             0.3333333333333333,
             "#9c179e"
            ],
            [
             0.4444444444444444,
             "#bd3786"
            ],
            [
             0.5555555555555556,
             "#d8576b"
            ],
            [
             0.6666666666666666,
             "#ed7953"
            ],
            [
             0.7777777777777778,
             "#fb9f3a"
            ],
            [
             0.8888888888888888,
             "#fdca26"
            ],
            [
             1,
             "#f0f921"
            ]
           ]
          },
          "colorway": [
           "#636efa",
           "#EF553B",
           "#00cc96",
           "#ab63fa",
           "#FFA15A",
           "#19d3f3",
           "#FF6692",
           "#B6E880",
           "#FF97FF",
           "#FECB52"
          ],
          "font": {
           "color": "#2a3f5f"
          },
          "geo": {
           "bgcolor": "white",
           "lakecolor": "white",
           "landcolor": "#E5ECF6",
           "showlakes": true,
           "showland": true,
           "subunitcolor": "white"
          },
          "hoverlabel": {
           "align": "left"
          },
          "hovermode": "closest",
          "mapbox": {
           "style": "light"
          },
          "paper_bgcolor": "white",
          "plot_bgcolor": "#E5ECF6",
          "polar": {
           "angularaxis": {
            "gridcolor": "white",
            "linecolor": "white",
            "ticks": ""
           },
           "bgcolor": "#E5ECF6",
           "radialaxis": {
            "gridcolor": "white",
            "linecolor": "white",
            "ticks": ""
           }
          },
          "scene": {
           "xaxis": {
            "backgroundcolor": "#E5ECF6",
            "gridcolor": "white",
            "gridwidth": 2,
            "linecolor": "white",
            "showbackground": true,
            "ticks": "",
            "zerolinecolor": "white"
           },
           "yaxis": {
            "backgroundcolor": "#E5ECF6",
            "gridcolor": "white",
            "gridwidth": 2,
            "linecolor": "white",
            "showbackground": true,
            "ticks": "",
            "zerolinecolor": "white"
           },
           "zaxis": {
            "backgroundcolor": "#E5ECF6",
            "gridcolor": "white",
            "gridwidth": 2,
            "linecolor": "white",
            "showbackground": true,
            "ticks": "",
            "zerolinecolor": "white"
           }
          },
          "shapedefaults": {
           "line": {
            "color": "#2a3f5f"
           }
          },
          "ternary": {
           "aaxis": {
            "gridcolor": "white",
            "linecolor": "white",
            "ticks": ""
           },
           "baxis": {
            "gridcolor": "white",
            "linecolor": "white",
            "ticks": ""
           },
           "bgcolor": "#E5ECF6",
           "caxis": {
            "gridcolor": "white",
            "linecolor": "white",
            "ticks": ""
           }
          },
          "title": {
           "x": 0.05
          },
          "xaxis": {
           "automargin": true,
           "gridcolor": "white",
           "linecolor": "white",
           "ticks": "",
           "title": {
            "standoff": 15
           },
           "zerolinecolor": "white",
           "zerolinewidth": 2
          },
          "yaxis": {
           "automargin": true,
           "gridcolor": "white",
           "linecolor": "white",
           "ticks": "",
           "title": {
            "standoff": 15
           },
           "zerolinecolor": "white",
           "zerolinewidth": 2
          }
         }
        },
        "title": {
         "text": "KMeans Clustering Results with PCA in 2D Using MinMaxScaler"
        },
        "xaxis": {
         "anchor": "y",
         "domain": [
          0,
          1
         ],
         "title": {
          "text": "Principal Component 1"
         }
        },
        "yaxis": {
         "anchor": "x",
         "domain": [
          0,
          1
         ],
         "title": {
          "text": "Principal Component 2"
         }
        }
       }
      },
      "text/html": [
       "<div>                            <div id=\"8d9ff87d-4a26-4b73-ac5b-6a3a16402f5c\" class=\"plotly-graph-div\" style=\"height:525px; width:100%;\"></div>            <script type=\"text/javascript\">                require([\"plotly\"], function(Plotly) {                    window.PLOTLYENV=window.PLOTLYENV || {};                                    if (document.getElementById(\"8d9ff87d-4a26-4b73-ac5b-6a3a16402f5c\")) {                    Plotly.newPlot(                        \"8d9ff87d-4a26-4b73-ac5b-6a3a16402f5c\",                        [{\"hovertemplate\":\"Cluster=%{marker.color}<br>Principal Component 1=%{x}<br>Principal Component 2=%{y}<extra></extra>\",\"legendgroup\":\"3\",\"marker\":{\"color\":[3,3,3,3,3,3,3,3,3,3,3,3,3,3,3,3,3,3,3,3,3],\"coloraxis\":\"coloraxis\",\"opacity\":0.7,\"symbol\":\"circle\"},\"mode\":\"markers\",\"name\":\"3\",\"orientation\":\"v\",\"showlegend\":true,\"x\":[0.7328982727630546,0.4936001582938095,0.6205904361751787,0.7821120366065731,0.5884786926161603,0.5707114804224007,0.7004486406739814,0.3545979899462529,0.49771715349415074,0.45602775467865203,0.38187910590196383,0.4428361637910012,0.5008256054180912,0.573824448491668,0.46815258424690326,0.5089404037050277,0.2986738954407383,0.3710351968318141,0.43460382275175236,0.4022383330565049,0.45626944144074094],\"xaxis\":\"x\",\"y\":[-0.06775318874228126,-0.1944846457483548,-0.01452018210189967,-0.13123607062566803,-0.16335735932761616,-0.16070716447260122,-0.06324038281926225,-0.2224921972361561,-0.17222665953050575,-0.24168456222126772,-0.2674160538221461,-0.2790545486887702,-0.3499186452595197,-0.24663362546540354,-0.3518903421478843,-0.20249569642719964,-0.34883782794585594,-0.30420815723582056,-0.21495076743757743,-0.3359195558228173,-0.3037837871655545],\"yaxis\":\"y\",\"type\":\"scatter\"},{\"hovertemplate\":\"Cluster=%{marker.color}<br>Principal Component 1=%{x}<br>Principal Component 2=%{y}<extra></extra>\",\"legendgroup\":\"4\",\"marker\":{\"color\":[4,4,4,4,4,4,4,4,4,4,4,4,4,4,4,4,4,4,4,4,4,4,4,4,4,4,4,4,4,4,4,4,4,4,4,4,4,4,4,4,4,4,4,4,4],\"coloraxis\":\"coloraxis\",\"opacity\":0.7,\"symbol\":\"diamond\"},\"mode\":\"markers\",\"name\":\"4\",\"orientation\":\"v\",\"showlegend\":true,\"x\":[-0.2310985473654304,-0.26813476876026754,-0.4817121669872854,-0.38898038182262196,-0.22663325305591583,-0.5278472819665746,-0.354628766941635,-0.46803838669132075,-0.3938490070839148,-0.4417064167023664,-0.25388031700429264,-0.3375200779988775,-0.4758923966089407,-0.4375888889716023,-0.39317564795687804,-0.21564436066312614,-0.3273646553456768,-0.2580357693566766,-0.4920148899540952,-0.18022176945474394,-0.28558083410886087,-0.20493104655156727,-0.41852395460508635,-0.40694627164135616,-0.3664736280985239,-0.38666849035606793,-0.24732693732560476,-0.30432179788750785,-0.5141720915463193,-0.2958338938502545,-0.510825675116583,-0.4527148119807517,-0.36217951027193107,-0.38849761391049503,-0.48702752653976267,-0.46280072222136825,-0.5120210955778605,-0.16881047438030222,-0.30413867794825,-0.21166089614923847,-0.5275062778661588,-0.39132940330359883,-0.23241042504223836,-0.43383747569716324,-0.3086941922611701],\"xaxis\":\"x\",\"y\":[0.0011584782822257774,0.021221717321179986,-0.13035143428953258,-0.08814743411267068,0.049005963969526195,-0.1197986360851764,-0.07820534035694236,-0.13536107621600513,-0.03769390221729467,-0.039475555334842156,0.1064669441726682,-0.041299250989375744,-0.08255221586588508,-0.03269720098803848,-0.0513484821273503,-0.019359372284940758,0.12648568395482632,0.014559429582793404,-0.20485900382699956,0.18554054865763348,0.06625379317437607,0.04597997846656169,-0.028788285765584128,-0.0486763972716337,-0.03863013277242361,-0.10170582079978242,-0.051829299953834874,-0.006941269183229875,-0.16588435432083862,-0.0519459949791358,-0.1465511032975128,-0.1280222174252622,-0.11998675242945187,-0.04519996834857933,-0.040943623093888895,-0.04548698187979574,-0.13737945275438562,0.028287381233203752,0.08193336907334865,0.10687066007501819,-0.14038496136162987,-0.06410507297072647,0.07799076347955877,-0.05568473822251763,0.02091580102887939],\"yaxis\":\"y\",\"type\":\"scatter\"},{\"hovertemplate\":\"Cluster=%{marker.color}<br>Principal Component 1=%{x}<br>Principal Component 2=%{y}<extra></extra>\",\"legendgroup\":\"5\",\"marker\":{\"color\":[5,5,5,5,5,5,5,5,5,5,5,5,5,5,5,5,5,5,5,5,5,5,5,5,5,5,5],\"coloraxis\":\"coloraxis\",\"opacity\":0.7,\"symbol\":\"square\"},\"mode\":\"markers\",\"name\":\"5\",\"orientation\":\"v\",\"showlegend\":true,\"x\":[0.37803052622582023,0.2682513398564096,-0.05630507616009731,0.1469685760497217,0.3324805336204721,0.11948291541303539,0.23464185977297863,-0.07919506519359233,0.19791916107022342,0.1253567116081234,0.4101488145620447,0.23219019816811756,0.17605218066517192,0.19560228415857334,-0.06255500573004717,0.29173733544612773,-0.08973395153796748,0.42481519167729964,-0.001150116166670175,0.015616008338619092,0.3972181332468177,0.3193136321514627,0.1380177595737717,0.19338176964041254,0.13849686165292763,0.3197694081844121,0.3144514770976352],\"xaxis\":\"x\",\"y\":[0.050472280648372295,-0.10047570944072598,0.14755693769295838,-0.12253323639581676,0.035530706577790554,-0.06276742437642495,0.019504717446483265,0.06343957862180678,-0.0035972065000431683,0.08388840691796305,0.1549017269619938,-0.052598571227646794,-0.09130430611134181,-0.13681772764123004,0.27074390309437885,0.5332280512419,0.06302747889053768,0.21484017891795532,0.343341561281523,0.2510872877455098,0.025273908345125932,0.05106942319778387,0.0027831365165214847,-0.041554317644090025,0.48371770932508945,0.0725180134635147,-0.08641048792950722],\"yaxis\":\"y\",\"type\":\"scatter\"},{\"hovertemplate\":\"Cluster=%{marker.color}<br>Principal Component 1=%{x}<br>Principal Component 2=%{y}<extra></extra>\",\"legendgroup\":\"2\",\"marker\":{\"color\":[2,2,2,2,2,2,2,2,2,2,2,2,2,2,2,2,2,2,2,2,2],\"coloraxis\":\"coloraxis\",\"opacity\":0.7,\"symbol\":\"x\"},\"mode\":\"markers\",\"name\":\"2\",\"orientation\":\"v\",\"showlegend\":true,\"x\":[-0.8407079236661901,-0.4976326032615932,-0.6136728675372182,-0.498295711170108,-0.4524574291823033,-0.7572675885360542,-0.6893712219973765,-0.7483575239137792,-0.6365085592210525,-0.7032237732248764,-0.3904639329424875,-0.5715377536111133,-0.6160244713872796,-0.617389973083509,-0.7563648799753965,-0.37917593086019463,-0.6335401011810554,-0.6484251909510097,-0.5948232338791615,-0.7599254333635872,-0.599507338284909],\"xaxis\":\"x\",\"y\":[0.002948768672309136,0.29443782030384086,0.2204574870149111,0.20397029053737922,0.2049886196220486,0.08663174504679805,0.19281092828886093,0.1360214522448638,0.21284113721710077,0.14381310177440848,0.39547445282136506,0.12301785185365592,0.25159524552322443,0.15973970789562375,0.10756948270881844,0.4319038985401707,0.19152803406156618,0.2256166637253789,0.25469033555236775,0.10995359093307668,0.1525047608974833],\"yaxis\":\"y\",\"type\":\"scatter\"},{\"hovertemplate\":\"Cluster=%{marker.color}<br>Principal Component 1=%{x}<br>Principal Component 2=%{y}<extra></extra>\",\"legendgroup\":\"1\",\"marker\":{\"color\":[1,1,1,1,1,1,1,1,1,1,1,1,1,1,1,1,1,1,1,1],\"coloraxis\":\"coloraxis\",\"opacity\":0.7,\"symbol\":\"cross\"},\"mode\":\"markers\",\"name\":\"1\",\"orientation\":\"v\",\"showlegend\":true,\"x\":[0.8266638812732774,0.5442790420874765,0.8038961615015147,0.4691018759445168,0.9571537052808302,0.7533781026941632,0.8782562096420667,0.5310590303807583,0.8130114826992321,0.6577949202489012,0.4863487219876352,0.8528816191915086,0.9138045309106693,0.4720053262190818,0.6373363852962063,0.649575667839266,0.8983076403277366,0.5383779598228038,0.8276120076787955,0.9471507585601374],\"xaxis\":\"x\",\"y\":[0.4318417123153483,0.2262391760044235,0.10850137049206625,0.329567889988125,0.1416983168229267,-0.03374323720743602,0.6667087158165615,0.19748872738198064,-0.03410535711315487,0.015830156430955537,0.13960945158745883,0.018612571811557413,0.17194199980280883,0.22209631624746393,0.3239811137623463,0.03473406664382211,0.3333554506921138,0.3180047051952109,0.41920859311570535,0.14160059384111692],\"yaxis\":\"y\",\"type\":\"scatter\"},{\"hovertemplate\":\"Cluster=%{marker.color}<br>Principal Component 1=%{x}<br>Principal Component 2=%{y}<extra></extra>\",\"legendgroup\":\"0\",\"marker\":{\"color\":[0,0,0,0,0,0,0,0,0,0,0,0,0,0,0,0,0,0],\"coloraxis\":\"coloraxis\",\"opacity\":0.7,\"symbol\":\"circle\"},\"mode\":\"markers\",\"name\":\"0\",\"orientation\":\"v\",\"showlegend\":true,\"x\":[-0.03294603936361494,0.051850269198590024,0.016873399287761805,-0.039575322834845474,-0.03812562328292905,0.11635617003680475,-0.13496082383341396,-0.12576206946371563,-0.050298997707480635,-0.07168586192760525,-0.21991385149104845,0.08506759471911314,-0.2071763097761894,-0.19947261306483677,-0.11114202683986533,-0.007821508281654233,0.07119973939857187,0.0659486816620726],\"xaxis\":\"x\",\"y\":[-0.2901021923835216,-0.12461997146560531,-0.21047272984421392,-0.2571356022589529,-0.33302132785694155,-0.19741162561925632,-0.29241709000799654,-0.3011442959530799,-0.23822574600043936,-0.2685643196861857,-0.2587828460264378,-0.13462932119495397,-0.27993629528888214,-0.28590157168974384,-0.3159180237606096,-0.17782748190550263,-0.12191426326450237,-0.17309278498258393],\"yaxis\":\"y\",\"type\":\"scatter\"}],                        {\"template\":{\"data\":{\"bar\":[{\"error_x\":{\"color\":\"#2a3f5f\"},\"error_y\":{\"color\":\"#2a3f5f\"},\"marker\":{\"line\":{\"color\":\"#E5ECF6\",\"width\":0.5},\"pattern\":{\"fillmode\":\"overlay\",\"size\":10,\"solidity\":0.2}},\"type\":\"bar\"}],\"barpolar\":[{\"marker\":{\"line\":{\"color\":\"#E5ECF6\",\"width\":0.5},\"pattern\":{\"fillmode\":\"overlay\",\"size\":10,\"solidity\":0.2}},\"type\":\"barpolar\"}],\"carpet\":[{\"aaxis\":{\"endlinecolor\":\"#2a3f5f\",\"gridcolor\":\"white\",\"linecolor\":\"white\",\"minorgridcolor\":\"white\",\"startlinecolor\":\"#2a3f5f\"},\"baxis\":{\"endlinecolor\":\"#2a3f5f\",\"gridcolor\":\"white\",\"linecolor\":\"white\",\"minorgridcolor\":\"white\",\"startlinecolor\":\"#2a3f5f\"},\"type\":\"carpet\"}],\"choropleth\":[{\"colorbar\":{\"outlinewidth\":0,\"ticks\":\"\"},\"type\":\"choropleth\"}],\"contour\":[{\"colorbar\":{\"outlinewidth\":0,\"ticks\":\"\"},\"colorscale\":[[0.0,\"#0d0887\"],[0.1111111111111111,\"#46039f\"],[0.2222222222222222,\"#7201a8\"],[0.3333333333333333,\"#9c179e\"],[0.4444444444444444,\"#bd3786\"],[0.5555555555555556,\"#d8576b\"],[0.6666666666666666,\"#ed7953\"],[0.7777777777777778,\"#fb9f3a\"],[0.8888888888888888,\"#fdca26\"],[1.0,\"#f0f921\"]],\"type\":\"contour\"}],\"contourcarpet\":[{\"colorbar\":{\"outlinewidth\":0,\"ticks\":\"\"},\"type\":\"contourcarpet\"}],\"heatmap\":[{\"colorbar\":{\"outlinewidth\":0,\"ticks\":\"\"},\"colorscale\":[[0.0,\"#0d0887\"],[0.1111111111111111,\"#46039f\"],[0.2222222222222222,\"#7201a8\"],[0.3333333333333333,\"#9c179e\"],[0.4444444444444444,\"#bd3786\"],[0.5555555555555556,\"#d8576b\"],[0.6666666666666666,\"#ed7953\"],[0.7777777777777778,\"#fb9f3a\"],[0.8888888888888888,\"#fdca26\"],[1.0,\"#f0f921\"]],\"type\":\"heatmap\"}],\"heatmapgl\":[{\"colorbar\":{\"outlinewidth\":0,\"ticks\":\"\"},\"colorscale\":[[0.0,\"#0d0887\"],[0.1111111111111111,\"#46039f\"],[0.2222222222222222,\"#7201a8\"],[0.3333333333333333,\"#9c179e\"],[0.4444444444444444,\"#bd3786\"],[0.5555555555555556,\"#d8576b\"],[0.6666666666666666,\"#ed7953\"],[0.7777777777777778,\"#fb9f3a\"],[0.8888888888888888,\"#fdca26\"],[1.0,\"#f0f921\"]],\"type\":\"heatmapgl\"}],\"histogram\":[{\"marker\":{\"pattern\":{\"fillmode\":\"overlay\",\"size\":10,\"solidity\":0.2}},\"type\":\"histogram\"}],\"histogram2d\":[{\"colorbar\":{\"outlinewidth\":0,\"ticks\":\"\"},\"colorscale\":[[0.0,\"#0d0887\"],[0.1111111111111111,\"#46039f\"],[0.2222222222222222,\"#7201a8\"],[0.3333333333333333,\"#9c179e\"],[0.4444444444444444,\"#bd3786\"],[0.5555555555555556,\"#d8576b\"],[0.6666666666666666,\"#ed7953\"],[0.7777777777777778,\"#fb9f3a\"],[0.8888888888888888,\"#fdca26\"],[1.0,\"#f0f921\"]],\"type\":\"histogram2d\"}],\"histogram2dcontour\":[{\"colorbar\":{\"outlinewidth\":0,\"ticks\":\"\"},\"colorscale\":[[0.0,\"#0d0887\"],[0.1111111111111111,\"#46039f\"],[0.2222222222222222,\"#7201a8\"],[0.3333333333333333,\"#9c179e\"],[0.4444444444444444,\"#bd3786\"],[0.5555555555555556,\"#d8576b\"],[0.6666666666666666,\"#ed7953\"],[0.7777777777777778,\"#fb9f3a\"],[0.8888888888888888,\"#fdca26\"],[1.0,\"#f0f921\"]],\"type\":\"histogram2dcontour\"}],\"mesh3d\":[{\"colorbar\":{\"outlinewidth\":0,\"ticks\":\"\"},\"type\":\"mesh3d\"}],\"parcoords\":[{\"line\":{\"colorbar\":{\"outlinewidth\":0,\"ticks\":\"\"}},\"type\":\"parcoords\"}],\"pie\":[{\"automargin\":true,\"type\":\"pie\"}],\"scatter\":[{\"marker\":{\"colorbar\":{\"outlinewidth\":0,\"ticks\":\"\"}},\"type\":\"scatter\"}],\"scatter3d\":[{\"line\":{\"colorbar\":{\"outlinewidth\":0,\"ticks\":\"\"}},\"marker\":{\"colorbar\":{\"outlinewidth\":0,\"ticks\":\"\"}},\"type\":\"scatter3d\"}],\"scattercarpet\":[{\"marker\":{\"colorbar\":{\"outlinewidth\":0,\"ticks\":\"\"}},\"type\":\"scattercarpet\"}],\"scattergeo\":[{\"marker\":{\"colorbar\":{\"outlinewidth\":0,\"ticks\":\"\"}},\"type\":\"scattergeo\"}],\"scattergl\":[{\"marker\":{\"colorbar\":{\"outlinewidth\":0,\"ticks\":\"\"}},\"type\":\"scattergl\"}],\"scattermapbox\":[{\"marker\":{\"colorbar\":{\"outlinewidth\":0,\"ticks\":\"\"}},\"type\":\"scattermapbox\"}],\"scatterpolar\":[{\"marker\":{\"colorbar\":{\"outlinewidth\":0,\"ticks\":\"\"}},\"type\":\"scatterpolar\"}],\"scatterpolargl\":[{\"marker\":{\"colorbar\":{\"outlinewidth\":0,\"ticks\":\"\"}},\"type\":\"scatterpolargl\"}],\"scatterternary\":[{\"marker\":{\"colorbar\":{\"outlinewidth\":0,\"ticks\":\"\"}},\"type\":\"scatterternary\"}],\"surface\":[{\"colorbar\":{\"outlinewidth\":0,\"ticks\":\"\"},\"colorscale\":[[0.0,\"#0d0887\"],[0.1111111111111111,\"#46039f\"],[0.2222222222222222,\"#7201a8\"],[0.3333333333333333,\"#9c179e\"],[0.4444444444444444,\"#bd3786\"],[0.5555555555555556,\"#d8576b\"],[0.6666666666666666,\"#ed7953\"],[0.7777777777777778,\"#fb9f3a\"],[0.8888888888888888,\"#fdca26\"],[1.0,\"#f0f921\"]],\"type\":\"surface\"}],\"table\":[{\"cells\":{\"fill\":{\"color\":\"#EBF0F8\"},\"line\":{\"color\":\"white\"}},\"header\":{\"fill\":{\"color\":\"#C8D4E3\"},\"line\":{\"color\":\"white\"}},\"type\":\"table\"}]},\"layout\":{\"annotationdefaults\":{\"arrowcolor\":\"#2a3f5f\",\"arrowhead\":0,\"arrowwidth\":1},\"autotypenumbers\":\"strict\",\"coloraxis\":{\"colorbar\":{\"outlinewidth\":0,\"ticks\":\"\"}},\"colorscale\":{\"diverging\":[[0,\"#8e0152\"],[0.1,\"#c51b7d\"],[0.2,\"#de77ae\"],[0.3,\"#f1b6da\"],[0.4,\"#fde0ef\"],[0.5,\"#f7f7f7\"],[0.6,\"#e6f5d0\"],[0.7,\"#b8e186\"],[0.8,\"#7fbc41\"],[0.9,\"#4d9221\"],[1,\"#276419\"]],\"sequential\":[[0.0,\"#0d0887\"],[0.1111111111111111,\"#46039f\"],[0.2222222222222222,\"#7201a8\"],[0.3333333333333333,\"#9c179e\"],[0.4444444444444444,\"#bd3786\"],[0.5555555555555556,\"#d8576b\"],[0.6666666666666666,\"#ed7953\"],[0.7777777777777778,\"#fb9f3a\"],[0.8888888888888888,\"#fdca26\"],[1.0,\"#f0f921\"]],\"sequentialminus\":[[0.0,\"#0d0887\"],[0.1111111111111111,\"#46039f\"],[0.2222222222222222,\"#7201a8\"],[0.3333333333333333,\"#9c179e\"],[0.4444444444444444,\"#bd3786\"],[0.5555555555555556,\"#d8576b\"],[0.6666666666666666,\"#ed7953\"],[0.7777777777777778,\"#fb9f3a\"],[0.8888888888888888,\"#fdca26\"],[1.0,\"#f0f921\"]]},\"colorway\":[\"#636efa\",\"#EF553B\",\"#00cc96\",\"#ab63fa\",\"#FFA15A\",\"#19d3f3\",\"#FF6692\",\"#B6E880\",\"#FF97FF\",\"#FECB52\"],\"font\":{\"color\":\"#2a3f5f\"},\"geo\":{\"bgcolor\":\"white\",\"lakecolor\":\"white\",\"landcolor\":\"#E5ECF6\",\"showlakes\":true,\"showland\":true,\"subunitcolor\":\"white\"},\"hoverlabel\":{\"align\":\"left\"},\"hovermode\":\"closest\",\"mapbox\":{\"style\":\"light\"},\"paper_bgcolor\":\"white\",\"plot_bgcolor\":\"#E5ECF6\",\"polar\":{\"angularaxis\":{\"gridcolor\":\"white\",\"linecolor\":\"white\",\"ticks\":\"\"},\"bgcolor\":\"#E5ECF6\",\"radialaxis\":{\"gridcolor\":\"white\",\"linecolor\":\"white\",\"ticks\":\"\"}},\"scene\":{\"xaxis\":{\"backgroundcolor\":\"#E5ECF6\",\"gridcolor\":\"white\",\"gridwidth\":2,\"linecolor\":\"white\",\"showbackground\":true,\"ticks\":\"\",\"zerolinecolor\":\"white\"},\"yaxis\":{\"backgroundcolor\":\"#E5ECF6\",\"gridcolor\":\"white\",\"gridwidth\":2,\"linecolor\":\"white\",\"showbackground\":true,\"ticks\":\"\",\"zerolinecolor\":\"white\"},\"zaxis\":{\"backgroundcolor\":\"#E5ECF6\",\"gridcolor\":\"white\",\"gridwidth\":2,\"linecolor\":\"white\",\"showbackground\":true,\"ticks\":\"\",\"zerolinecolor\":\"white\"}},\"shapedefaults\":{\"line\":{\"color\":\"#2a3f5f\"}},\"ternary\":{\"aaxis\":{\"gridcolor\":\"white\",\"linecolor\":\"white\",\"ticks\":\"\"},\"baxis\":{\"gridcolor\":\"white\",\"linecolor\":\"white\",\"ticks\":\"\"},\"bgcolor\":\"#E5ECF6\",\"caxis\":{\"gridcolor\":\"white\",\"linecolor\":\"white\",\"ticks\":\"\"}},\"title\":{\"x\":0.05},\"xaxis\":{\"automargin\":true,\"gridcolor\":\"white\",\"linecolor\":\"white\",\"ticks\":\"\",\"title\":{\"standoff\":15},\"zerolinecolor\":\"white\",\"zerolinewidth\":2},\"yaxis\":{\"automargin\":true,\"gridcolor\":\"white\",\"linecolor\":\"white\",\"ticks\":\"\",\"title\":{\"standoff\":15},\"zerolinecolor\":\"white\",\"zerolinewidth\":2}}},\"xaxis\":{\"anchor\":\"y\",\"domain\":[0.0,1.0],\"title\":{\"text\":\"Principal Component 1\"}},\"yaxis\":{\"anchor\":\"x\",\"domain\":[0.0,1.0],\"title\":{\"text\":\"Principal Component 2\"}},\"coloraxis\":{\"colorbar\":{\"title\":{\"text\":\"Cluster\"}},\"colorscale\":[[0.0,\"#0d0887\"],[0.1111111111111111,\"#46039f\"],[0.2222222222222222,\"#7201a8\"],[0.3333333333333333,\"#9c179e\"],[0.4444444444444444,\"#bd3786\"],[0.5555555555555556,\"#d8576b\"],[0.6666666666666666,\"#ed7953\"],[0.7777777777777778,\"#fb9f3a\"],[0.8888888888888888,\"#fdca26\"],[1.0,\"#f0f921\"]]},\"legend\":{\"title\":{\"text\":\"Cluster\"},\"tracegroupgap\":0},\"title\":{\"text\":\"KMeans Clustering Results with PCA in 2D Using MinMaxScaler\"}},                        {\"responsive\": true}                    ).then(function(){\n",
       "                            \n",
       "var gd = document.getElementById('8d9ff87d-4a26-4b73-ac5b-6a3a16402f5c');\n",
       "var x = new MutationObserver(function (mutations, observer) {{\n",
       "        var display = window.getComputedStyle(gd).display;\n",
       "        if (!display || display === 'none') {{\n",
       "            console.log([gd, 'removed!']);\n",
       "            Plotly.purge(gd);\n",
       "            observer.disconnect();\n",
       "        }}\n",
       "}});\n",
       "\n",
       "// Listen for the removal of the full notebook cells\n",
       "var notebookContainer = gd.closest('#notebook-container');\n",
       "if (notebookContainer) {{\n",
       "    x.observe(notebookContainer, {childList: true});\n",
       "}}\n",
       "\n",
       "// Listen for the clearing of the current output cell\n",
       "var outputEl = gd.closest('.output');\n",
       "if (outputEl) {{\n",
       "    x.observe(outputEl, {childList: true});\n",
       "}}\n",
       "\n",
       "                        })                };                });            </script>        </div>"
      ]
     },
     "metadata": {},
     "output_type": "display_data"
    }
   ],
   "source": [
    "import pandas as pd\n",
    "import plotly.express as px\n",
    "from sklearn.cluster import KMeans\n",
    "from sklearn.decomposition import PCA\n",
    "from sklearn.preprocessing import MinMaxScaler\n",
    "\n",
    "# we use MinMaxScaler\n",
    "scaler = MinMaxScaler()\n",
    "df_input_scaled = scaler.fit_transform(df_input)\n",
    "\n",
    "# use PCA to reduce the dimension into 2\n",
    "pca = PCA(n_components=2)\n",
    "principal_components = pca.fit_transform(df_input_scaled)\n",
    "df_pca = pd.DataFrame(data=principal_components, columns=['PC1', 'PC2'])\n",
    "\n",
    "# KMeans on the reduced data\n",
    "kmeans = KMeans(n_clusters=6, random_state=42)\n",
    "df_pca['Cluster'] = kmeans.fit_predict(df_pca)\n",
    "\n",
    "# interactive scatter plot of the clusters\n",
    "fig = px.scatter(\n",
    "    df_pca,\n",
    "    x='PC1',\n",
    "    y='PC2',\n",
    "    color='Cluster',\n",
    "    symbol='Cluster',\n",
    "    opacity=0.7,\n",
    "    size_max=10,\n",
    "    title='KMeans Clustering Results with PCA in 2D Using MinMaxScaler',\n",
    "    labels={'PC1': 'Principal Component 1', 'PC2': 'Principal Component 2'},\n",
    ")\n",
    "\n",
    "fig.show()\n"
   ]
  },
  {
   "cell_type": "code",
   "execution_count": 34,
   "metadata": {},
   "outputs": [
    {
     "data": {
      "text/html": [
       "<div>\n",
       "<style scoped>\n",
       "    .dataframe tbody tr th:only-of-type {\n",
       "        vertical-align: middle;\n",
       "    }\n",
       "\n",
       "    .dataframe tbody tr th {\n",
       "        vertical-align: top;\n",
       "    }\n",
       "\n",
       "    .dataframe thead th {\n",
       "        text-align: right;\n",
       "    }\n",
       "</style>\n",
       "<table border=\"1\" class=\"dataframe\">\n",
       "  <thead>\n",
       "    <tr style=\"text-align: right;\">\n",
       "      <th></th>\n",
       "      <th>Country</th>\n",
       "      <th>Income Classification</th>\n",
       "      <th>Severe Wasting</th>\n",
       "      <th>Wasting</th>\n",
       "      <th>Overweight</th>\n",
       "      <th>Stunting</th>\n",
       "      <th>Underweight</th>\n",
       "      <th>U5 Population ('000s)</th>\n",
       "      <th>k_means</th>\n",
       "    </tr>\n",
       "  </thead>\n",
       "  <tbody>\n",
       "    <tr>\n",
       "      <th>0</th>\n",
       "      <td>AFGHANISTAN</td>\n",
       "      <td>0.0</td>\n",
       "      <td>3.033333</td>\n",
       "      <td>10.350000</td>\n",
       "      <td>5.125000</td>\n",
       "      <td>47.775000</td>\n",
       "      <td>30.375000</td>\n",
       "      <td>4918.561500</td>\n",
       "      <td>1</td>\n",
       "    </tr>\n",
       "    <tr>\n",
       "      <th>1</th>\n",
       "      <td>ALBANIA</td>\n",
       "      <td>2.0</td>\n",
       "      <td>4.075000</td>\n",
       "      <td>7.760000</td>\n",
       "      <td>20.800000</td>\n",
       "      <td>24.160000</td>\n",
       "      <td>7.700000</td>\n",
       "      <td>232.859800</td>\n",
       "      <td>0</td>\n",
       "    </tr>\n",
       "    <tr>\n",
       "      <th>2</th>\n",
       "      <td>ALGERIA</td>\n",
       "      <td>2.0</td>\n",
       "      <td>2.733333</td>\n",
       "      <td>5.942857</td>\n",
       "      <td>12.833333</td>\n",
       "      <td>19.571429</td>\n",
       "      <td>7.342857</td>\n",
       "      <td>3565.213143</td>\n",
       "      <td>0</td>\n",
       "    </tr>\n",
       "    <tr>\n",
       "      <th>3</th>\n",
       "      <td>ANGOLA</td>\n",
       "      <td>1.0</td>\n",
       "      <td>2.400000</td>\n",
       "      <td>6.933333</td>\n",
       "      <td>2.550000</td>\n",
       "      <td>42.633333</td>\n",
       "      <td>23.600000</td>\n",
       "      <td>3980.054000</td>\n",
       "      <td>1</td>\n",
       "    </tr>\n",
       "    <tr>\n",
       "      <th>4</th>\n",
       "      <td>ARGENTINA</td>\n",
       "      <td>2.0</td>\n",
       "      <td>0.200000</td>\n",
       "      <td>2.150000</td>\n",
       "      <td>11.125000</td>\n",
       "      <td>10.025000</td>\n",
       "      <td>2.600000</td>\n",
       "      <td>3613.651750</td>\n",
       "      <td>4</td>\n",
       "    </tr>\n",
       "  </tbody>\n",
       "</table>\n",
       "</div>"
      ],
      "text/plain": [
       "       Country  Income Classification  Severe Wasting    Wasting  Overweight  \\\n",
       "0  AFGHANISTAN                    0.0        3.033333  10.350000    5.125000   \n",
       "1      ALBANIA                    2.0        4.075000   7.760000   20.800000   \n",
       "2      ALGERIA                    2.0        2.733333   5.942857   12.833333   \n",
       "3       ANGOLA                    1.0        2.400000   6.933333    2.550000   \n",
       "4    ARGENTINA                    2.0        0.200000   2.150000   11.125000   \n",
       "\n",
       "    Stunting  Underweight  U5 Population ('000s)  k_means  \n",
       "0  47.775000    30.375000            4918.561500        1  \n",
       "1  24.160000     7.700000             232.859800        0  \n",
       "2  19.571429     7.342857            3565.213143        0  \n",
       "3  42.633333    23.600000            3980.054000        1  \n",
       "4  10.025000     2.600000            3613.651750        4  "
      ]
     },
     "execution_count": 34,
     "metadata": {},
     "output_type": "execute_result"
    }
   ],
   "source": [
    "df.head()"
   ]
  },
  {
   "cell_type": "markdown",
   "metadata": {},
   "source": [
    "# Cluster or Persona Analysis"
   ]
  },
  {
   "cell_type": "markdown",
   "metadata": {},
   "source": [
    "### Cluster 0"
   ]
  },
  {
   "cell_type": "code",
   "execution_count": 35,
   "metadata": {},
   "outputs": [],
   "source": [
    "cluster_0=df[df['k_means']==0]"
   ]
  },
  {
   "cell_type": "code",
   "execution_count": 36,
   "metadata": {},
   "outputs": [
    {
     "data": {
      "text/html": [
       "<div>\n",
       "<style scoped>\n",
       "    .dataframe tbody tr th:only-of-type {\n",
       "        vertical-align: middle;\n",
       "    }\n",
       "\n",
       "    .dataframe tbody tr th {\n",
       "        vertical-align: top;\n",
       "    }\n",
       "\n",
       "    .dataframe thead th {\n",
       "        text-align: right;\n",
       "    }\n",
       "</style>\n",
       "<table border=\"1\" class=\"dataframe\">\n",
       "  <thead>\n",
       "    <tr style=\"text-align: right;\">\n",
       "      <th></th>\n",
       "      <th>Income Classification</th>\n",
       "      <th>Severe Wasting</th>\n",
       "      <th>Wasting</th>\n",
       "      <th>Overweight</th>\n",
       "      <th>Stunting</th>\n",
       "      <th>Underweight</th>\n",
       "      <th>U5 Population ('000s)</th>\n",
       "      <th>k_means</th>\n",
       "    </tr>\n",
       "  </thead>\n",
       "  <tbody>\n",
       "    <tr>\n",
       "      <th>count</th>\n",
       "      <td>12.000000</td>\n",
       "      <td>12.000000</td>\n",
       "      <td>12.000000</td>\n",
       "      <td>12.000000</td>\n",
       "      <td>12.000000</td>\n",
       "      <td>12.000000</td>\n",
       "      <td>12.000000</td>\n",
       "      <td>12.0</td>\n",
       "    </tr>\n",
       "    <tr>\n",
       "      <th>mean</th>\n",
       "      <td>1.916667</td>\n",
       "      <td>2.391250</td>\n",
       "      <td>5.077579</td>\n",
       "      <td>18.318135</td>\n",
       "      <td>16.753294</td>\n",
       "      <td>4.426706</td>\n",
       "      <td>1123.786276</td>\n",
       "      <td>0.0</td>\n",
       "    </tr>\n",
       "    <tr>\n",
       "      <th>std</th>\n",
       "      <td>0.288675</td>\n",
       "      <td>0.994840</td>\n",
       "      <td>1.797882</td>\n",
       "      <td>3.920539</td>\n",
       "      <td>7.926773</td>\n",
       "      <td>2.813283</td>\n",
       "      <td>1680.375494</td>\n",
       "      <td>0.0</td>\n",
       "    </tr>\n",
       "    <tr>\n",
       "      <th>min</th>\n",
       "      <td>1.000000</td>\n",
       "      <td>0.850000</td>\n",
       "      <td>2.566667</td>\n",
       "      <td>12.833333</td>\n",
       "      <td>5.150000</td>\n",
       "      <td>1.600000</td>\n",
       "      <td>13.900500</td>\n",
       "      <td>0.0</td>\n",
       "    </tr>\n",
       "    <tr>\n",
       "      <th>25%</th>\n",
       "      <td>2.000000</td>\n",
       "      <td>1.675000</td>\n",
       "      <td>3.830000</td>\n",
       "      <td>15.605000</td>\n",
       "      <td>10.362500</td>\n",
       "      <td>2.025000</td>\n",
       "      <td>201.648067</td>\n",
       "      <td>0.0</td>\n",
       "    </tr>\n",
       "    <tr>\n",
       "      <th>50%</th>\n",
       "      <td>2.000000</td>\n",
       "      <td>2.225000</td>\n",
       "      <td>4.833333</td>\n",
       "      <td>18.875000</td>\n",
       "      <td>16.485000</td>\n",
       "      <td>3.665000</td>\n",
       "      <td>344.693250</td>\n",
       "      <td>0.0</td>\n",
       "    </tr>\n",
       "    <tr>\n",
       "      <th>75%</th>\n",
       "      <td>2.000000</td>\n",
       "      <td>2.998333</td>\n",
       "      <td>6.148810</td>\n",
       "      <td>20.050000</td>\n",
       "      <td>23.215000</td>\n",
       "      <td>7.210714</td>\n",
       "      <td>1006.451750</td>\n",
       "      <td>0.0</td>\n",
       "    </tr>\n",
       "    <tr>\n",
       "      <th>max</th>\n",
       "      <td>2.000000</td>\n",
       "      <td>4.075000</td>\n",
       "      <td>8.200000</td>\n",
       "      <td>26.500000</td>\n",
       "      <td>29.071429</td>\n",
       "      <td>9.714286</td>\n",
       "      <td>5274.622000</td>\n",
       "      <td>0.0</td>\n",
       "    </tr>\n",
       "  </tbody>\n",
       "</table>\n",
       "</div>"
      ],
      "text/plain": [
       "       Income Classification  Severe Wasting    Wasting  Overweight  \\\n",
       "count              12.000000       12.000000  12.000000   12.000000   \n",
       "mean                1.916667        2.391250   5.077579   18.318135   \n",
       "std                 0.288675        0.994840   1.797882    3.920539   \n",
       "min                 1.000000        0.850000   2.566667   12.833333   \n",
       "25%                 2.000000        1.675000   3.830000   15.605000   \n",
       "50%                 2.000000        2.225000   4.833333   18.875000   \n",
       "75%                 2.000000        2.998333   6.148810   20.050000   \n",
       "max                 2.000000        4.075000   8.200000   26.500000   \n",
       "\n",
       "        Stunting  Underweight  U5 Population ('000s)  k_means  \n",
       "count  12.000000    12.000000              12.000000     12.0  \n",
       "mean   16.753294     4.426706            1123.786276      0.0  \n",
       "std     7.926773     2.813283            1680.375494      0.0  \n",
       "min     5.150000     1.600000              13.900500      0.0  \n",
       "25%    10.362500     2.025000             201.648067      0.0  \n",
       "50%    16.485000     3.665000             344.693250      0.0  \n",
       "75%    23.215000     7.210714            1006.451750      0.0  \n",
       "max    29.071429     9.714286            5274.622000      0.0  "
      ]
     },
     "execution_count": 36,
     "metadata": {},
     "output_type": "execute_result"
    }
   ],
   "source": [
    "cluster_0.describe()"
   ]
  },
  {
   "cell_type": "code",
   "execution_count": 39,
   "metadata": {},
   "outputs": [
    {
     "data": {
      "text/html": [
       "<div>\n",
       "<style scoped>\n",
       "    .dataframe tbody tr th:only-of-type {\n",
       "        vertical-align: middle;\n",
       "    }\n",
       "\n",
       "    .dataframe tbody tr th {\n",
       "        vertical-align: top;\n",
       "    }\n",
       "\n",
       "    .dataframe thead th {\n",
       "        text-align: right;\n",
       "    }\n",
       "</style>\n",
       "<table border=\"1\" class=\"dataframe\">\n",
       "  <thead>\n",
       "    <tr style=\"text-align: right;\">\n",
       "      <th></th>\n",
       "      <th>Country</th>\n",
       "      <th>Income Classification</th>\n",
       "      <th>Severe Wasting</th>\n",
       "      <th>Wasting</th>\n",
       "      <th>Overweight</th>\n",
       "      <th>Stunting</th>\n",
       "      <th>Underweight</th>\n",
       "      <th>U5 Population ('000s)</th>\n",
       "      <th>k_means</th>\n",
       "    </tr>\n",
       "  </thead>\n",
       "  <tbody>\n",
       "    <tr>\n",
       "      <th>1</th>\n",
       "      <td>ALBANIA</td>\n",
       "      <td>2.0</td>\n",
       "      <td>4.075000</td>\n",
       "      <td>7.760000</td>\n",
       "      <td>20.800000</td>\n",
       "      <td>24.160000</td>\n",
       "      <td>7.700000</td>\n",
       "      <td>232.859800</td>\n",
       "      <td>0</td>\n",
       "    </tr>\n",
       "    <tr>\n",
       "      <th>2</th>\n",
       "      <td>ALGERIA</td>\n",
       "      <td>2.0</td>\n",
       "      <td>2.733333</td>\n",
       "      <td>5.942857</td>\n",
       "      <td>12.833333</td>\n",
       "      <td>19.571429</td>\n",
       "      <td>7.342857</td>\n",
       "      <td>3565.213143</td>\n",
       "      <td>0</td>\n",
       "    </tr>\n",
       "    <tr>\n",
       "      <th>5</th>\n",
       "      <td>ARMENIA</td>\n",
       "      <td>2.0</td>\n",
       "      <td>1.600000</td>\n",
       "      <td>3.940000</td>\n",
       "      <td>13.620000</td>\n",
       "      <td>16.120000</td>\n",
       "      <td>3.480000</td>\n",
       "      <td>204.145200</td>\n",
       "      <td>0</td>\n",
       "    </tr>\n",
       "    <tr>\n",
       "      <th>16</th>\n",
       "      <td>BOSNIA AND HERZEGOVINA</td>\n",
       "      <td>2.0</td>\n",
       "      <td>2.200000</td>\n",
       "      <td>4.566667</td>\n",
       "      <td>19.800000</td>\n",
       "      <td>10.933333</td>\n",
       "      <td>2.466667</td>\n",
       "      <td>194.156667</td>\n",
       "      <td>0</td>\n",
       "    </tr>\n",
       "    <tr>\n",
       "      <th>52</th>\n",
       "      <td>GEORGIA</td>\n",
       "      <td>2.0</td>\n",
       "      <td>0.850000</td>\n",
       "      <td>2.566667</td>\n",
       "      <td>19.533333</td>\n",
       "      <td>14.000000</td>\n",
       "      <td>2.066667</td>\n",
       "      <td>252.580000</td>\n",
       "      <td>0</td>\n",
       "    </tr>\n",
       "  </tbody>\n",
       "</table>\n",
       "</div>"
      ],
      "text/plain": [
       "                   Country  Income Classification  Severe Wasting   Wasting  \\\n",
       "1                  ALBANIA                    2.0        4.075000  7.760000   \n",
       "2                  ALGERIA                    2.0        2.733333  5.942857   \n",
       "5                  ARMENIA                    2.0        1.600000  3.940000   \n",
       "16  BOSNIA AND HERZEGOVINA                    2.0        2.200000  4.566667   \n",
       "52                 GEORGIA                    2.0        0.850000  2.566667   \n",
       "\n",
       "    Overweight   Stunting  Underweight  U5 Population ('000s)  k_means  \n",
       "1    20.800000  24.160000     7.700000             232.859800        0  \n",
       "2    12.833333  19.571429     7.342857            3565.213143        0  \n",
       "5    13.620000  16.120000     3.480000             204.145200        0  \n",
       "16   19.800000  10.933333     2.466667             194.156667        0  \n",
       "52   19.533333  14.000000     2.066667             252.580000        0  "
      ]
     },
     "execution_count": 39,
     "metadata": {},
     "output_type": "execute_result"
    }
   ],
   "source": [
    "cluster_0.head()"
   ]
  },
  {
   "cell_type": "code",
   "execution_count": 37,
   "metadata": {},
   "outputs": [],
   "source": [
    "feature_variances = cluster_0.std()\n",
    "\n",
    "feature_variances = cluster_0.drop(columns = [\"U5 Population ('000s)\", \"k_means\"]).std()"
   ]
  },
  {
   "cell_type": "code",
   "execution_count": 38,
   "metadata": {},
   "outputs": [
    {
     "data": {
      "image/png": "[encoded data removed]",
      "text/plain": [
       "<Figure size 432x288 with 1 Axes>"
      ]
     },
     "metadata": {
      "needs_background": "light"
     },
     "output_type": "display_data"
    }
   ],
   "source": [
    "plt.bar(feature_variances.index, feature_variances.values, color='skyblue', edgecolor='black')\n",
    "\n",
    "plt.xlabel('Features')\n",
    "plt.ylabel('Variance')\n",
    "plt.title('Variance of Each Feature')\n",
    "\n",
    "plt.show()"
   ]
  },
  {
   "cell_type": "markdown",
   "metadata": {},
   "source": [
    "### Cluster 1 "
   ]
  },
  {
   "cell_type": "code",
   "execution_count": 40,
   "metadata": {
    "tags": []
   },
   "outputs": [],
   "source": [
    "cluster_1=df[df['k_means']==1]"
   ]
  },
  {
   "cell_type": "code",
   "execution_count": 41,
   "metadata": {},
   "outputs": [
    {
     "data": {
      "text/html": [
       "<div>\n",
       "<style scoped>\n",
       "    .dataframe tbody tr th:only-of-type {\n",
       "        vertical-align: middle;\n",
       "    }\n",
       "\n",
       "    .dataframe tbody tr th {\n",
       "        vertical-align: top;\n",
       "    }\n",
       "\n",
       "    .dataframe thead th {\n",
       "        text-align: right;\n",
       "    }\n",
       "</style>\n",
       "<table border=\"1\" class=\"dataframe\">\n",
       "  <thead>\n",
       "    <tr style=\"text-align: right;\">\n",
       "      <th></th>\n",
       "      <th>Income Classification</th>\n",
       "      <th>Severe Wasting</th>\n",
       "      <th>Wasting</th>\n",
       "      <th>Overweight</th>\n",
       "      <th>Stunting</th>\n",
       "      <th>Underweight</th>\n",
       "      <th>U5 Population ('000s)</th>\n",
       "      <th>k_means</th>\n",
       "    </tr>\n",
       "  </thead>\n",
       "  <tbody>\n",
       "    <tr>\n",
       "      <th>count</th>\n",
       "      <td>29.000000</td>\n",
       "      <td>29.000000</td>\n",
       "      <td>29.000000</td>\n",
       "      <td>29.000000</td>\n",
       "      <td>29.000000</td>\n",
       "      <td>29.000000</td>\n",
       "      <td>29.000000</td>\n",
       "      <td>29.0</td>\n",
       "    </tr>\n",
       "    <tr>\n",
       "      <th>mean</th>\n",
       "      <td>0.172414</td>\n",
       "      <td>2.472700</td>\n",
       "      <td>8.233871</td>\n",
       "      <td>4.027953</td>\n",
       "      <td>40.641692</td>\n",
       "      <td>22.734368</td>\n",
       "      <td>3515.831504</td>\n",
       "      <td>1.0</td>\n",
       "    </tr>\n",
       "    <tr>\n",
       "      <th>std</th>\n",
       "      <td>0.384426</td>\n",
       "      <td>0.854335</td>\n",
       "      <td>2.206510</td>\n",
       "      <td>1.895651</td>\n",
       "      <td>7.819132</td>\n",
       "      <td>6.271680</td>\n",
       "      <td>3480.750990</td>\n",
       "      <td>0.0</td>\n",
       "    </tr>\n",
       "    <tr>\n",
       "      <th>min</th>\n",
       "      <td>0.000000</td>\n",
       "      <td>1.260000</td>\n",
       "      <td>4.522222</td>\n",
       "      <td>1.028571</td>\n",
       "      <td>23.700000</td>\n",
       "      <td>10.933333</td>\n",
       "      <td>243.326750</td>\n",
       "      <td>1.0</td>\n",
       "    </tr>\n",
       "    <tr>\n",
       "      <th>25%</th>\n",
       "      <td>0.000000</td>\n",
       "      <td>1.920000</td>\n",
       "      <td>6.800000</td>\n",
       "      <td>2.400000</td>\n",
       "      <td>34.922727</td>\n",
       "      <td>17.740000</td>\n",
       "      <td>982.526700</td>\n",
       "      <td>1.0</td>\n",
       "    </tr>\n",
       "    <tr>\n",
       "      <th>50%</th>\n",
       "      <td>0.000000</td>\n",
       "      <td>2.425000</td>\n",
       "      <td>8.290909</td>\n",
       "      <td>3.660000</td>\n",
       "      <td>40.300000</td>\n",
       "      <td>22.900000</td>\n",
       "      <td>2409.566800</td>\n",
       "      <td>1.0</td>\n",
       "    </tr>\n",
       "    <tr>\n",
       "      <th>75%</th>\n",
       "      <td>0.000000</td>\n",
       "      <td>3.016667</td>\n",
       "      <td>9.771429</td>\n",
       "      <td>5.750000</td>\n",
       "      <td>46.466667</td>\n",
       "      <td>26.671429</td>\n",
       "      <td>4918.561500</td>\n",
       "      <td>1.0</td>\n",
       "    </tr>\n",
       "    <tr>\n",
       "      <th>max</th>\n",
       "      <td>1.000000</td>\n",
       "      <td>4.457143</td>\n",
       "      <td>13.242857</td>\n",
       "      <td>7.484615</td>\n",
       "      <td>57.600000</td>\n",
       "      <td>36.950000</td>\n",
       "      <td>13942.345571</td>\n",
       "      <td>1.0</td>\n",
       "    </tr>\n",
       "  </tbody>\n",
       "</table>\n",
       "</div>"
      ],
      "text/plain": [
       "       Income Classification  Severe Wasting    Wasting  Overweight  \\\n",
       "count              29.000000       29.000000  29.000000   29.000000   \n",
       "mean                0.172414        2.472700   8.233871    4.027953   \n",
       "std                 0.384426        0.854335   2.206510    1.895651   \n",
       "min                 0.000000        1.260000   4.522222    1.028571   \n",
       "25%                 0.000000        1.920000   6.800000    2.400000   \n",
       "50%                 0.000000        2.425000   8.290909    3.660000   \n",
       "75%                 0.000000        3.016667   9.771429    5.750000   \n",
       "max                 1.000000        4.457143  13.242857    7.484615   \n",
       "\n",
       "        Stunting  Underweight  U5 Population ('000s)  k_means  \n",
       "count  29.000000    29.000000              29.000000     29.0  \n",
       "mean   40.641692    22.734368            3515.831504      1.0  \n",
       "std     7.819132     6.271680            3480.750990      0.0  \n",
       "min    23.700000    10.933333             243.326750      1.0  \n",
       "25%    34.922727    17.740000             982.526700      1.0  \n",
       "50%    40.300000    22.900000            2409.566800      1.0  \n",
       "75%    46.466667    26.671429            4918.561500      1.0  \n",
       "max    57.600000    36.950000           13942.345571      1.0  "
      ]
     },
     "execution_count": 41,
     "metadata": {},
     "output_type": "execute_result"
    }
   ],
   "source": [
    "cluster_1.describe()"
   ]
  },
  {
   "cell_type": "code",
   "execution_count": 62,
   "metadata": {},
   "outputs": [
    {
     "data": {
      "text/html": [
       "<div>\n",
       "<style scoped>\n",
       "    .dataframe tbody tr th:only-of-type {\n",
       "        vertical-align: middle;\n",
       "    }\n",
       "\n",
       "    .dataframe tbody tr th {\n",
       "        vertical-align: top;\n",
       "    }\n",
       "\n",
       "    .dataframe thead th {\n",
       "        text-align: right;\n",
       "    }\n",
       "</style>\n",
       "<table border=\"1\" class=\"dataframe\">\n",
       "  <thead>\n",
       "    <tr style=\"text-align: right;\">\n",
       "      <th></th>\n",
       "      <th>Country</th>\n",
       "      <th>Income Classification</th>\n",
       "      <th>Severe Wasting</th>\n",
       "      <th>Wasting</th>\n",
       "      <th>Overweight</th>\n",
       "      <th>Stunting</th>\n",
       "      <th>Underweight</th>\n",
       "      <th>U5 Population ('000s)</th>\n",
       "      <th>k_means</th>\n",
       "    </tr>\n",
       "  </thead>\n",
       "  <tbody>\n",
       "    <tr>\n",
       "      <th>0</th>\n",
       "      <td>AFGHANISTAN</td>\n",
       "      <td>0.0</td>\n",
       "      <td>3.033333</td>\n",
       "      <td>10.350000</td>\n",
       "      <td>5.125</td>\n",
       "      <td>47.775000</td>\n",
       "      <td>30.375000</td>\n",
       "      <td>4918.561500</td>\n",
       "      <td>1</td>\n",
       "    </tr>\n",
       "    <tr>\n",
       "      <th>3</th>\n",
       "      <td>ANGOLA</td>\n",
       "      <td>1.0</td>\n",
       "      <td>2.400000</td>\n",
       "      <td>6.933333</td>\n",
       "      <td>2.550</td>\n",
       "      <td>42.633333</td>\n",
       "      <td>23.600000</td>\n",
       "      <td>3980.054000</td>\n",
       "      <td>1</td>\n",
       "    </tr>\n",
       "    <tr>\n",
       "      <th>13</th>\n",
       "      <td>BENIN</td>\n",
       "      <td>0.0</td>\n",
       "      <td>2.425000</td>\n",
       "      <td>7.700000</td>\n",
       "      <td>2.275</td>\n",
       "      <td>35.375000</td>\n",
       "      <td>20.125000</td>\n",
       "      <td>1476.525750</td>\n",
       "      <td>1</td>\n",
       "    </tr>\n",
       "    <tr>\n",
       "      <th>21</th>\n",
       "      <td>BURKINA FASO</td>\n",
       "      <td>0.0</td>\n",
       "      <td>4.169231</td>\n",
       "      <td>12.730769</td>\n",
       "      <td>2.250</td>\n",
       "      <td>33.346154</td>\n",
       "      <td>25.076923</td>\n",
       "      <td>2796.190615</td>\n",
       "      <td>1</td>\n",
       "    </tr>\n",
       "    <tr>\n",
       "      <th>22</th>\n",
       "      <td>BURUNDI</td>\n",
       "      <td>0.0</td>\n",
       "      <td>1.260000</td>\n",
       "      <td>6.666667</td>\n",
       "      <td>1.775</td>\n",
       "      <td>57.600000</td>\n",
       "      <td>32.250000</td>\n",
       "      <td>1497.888000</td>\n",
       "      <td>1</td>\n",
       "    </tr>\n",
       "  </tbody>\n",
       "</table>\n",
       "</div>"
      ],
      "text/plain": [
       "         Country  Income Classification  Severe Wasting    Wasting  \\\n",
       "0    AFGHANISTAN                    0.0        3.033333  10.350000   \n",
       "3         ANGOLA                    1.0        2.400000   6.933333   \n",
       "13         BENIN                    0.0        2.425000   7.700000   \n",
       "21  BURKINA FASO                    0.0        4.169231  12.730769   \n",
       "22       BURUNDI                    0.0        1.260000   6.666667   \n",
       "\n",
       "    Overweight   Stunting  Underweight  U5 Population ('000s)  k_means  \n",
       "0        5.125  47.775000    30.375000            4918.561500        1  \n",
       "3        2.550  42.633333    23.600000            3980.054000        1  \n",
       "13       2.275  35.375000    20.125000            1476.525750        1  \n",
       "21       2.250  33.346154    25.076923            2796.190615        1  \n",
       "22       1.775  57.600000    32.250000            1497.888000        1  "
      ]
     },
     "execution_count": 62,
     "metadata": {},
     "output_type": "execute_result"
    }
   ],
   "source": [
    "cluster_1.head()"
   ]
  },
  {
   "cell_type": "code",
   "execution_count": 42,
   "metadata": {},
   "outputs": [],
   "source": [
    "feature_variances1 = cluster_1.std()\n",
    "\n",
    "feature_variances1 = cluster_1.drop(columns = [\"U5 Population ('000s)\", \"k_means\"]).std()\n"
   ]
  },
  {
   "cell_type": "code",
   "execution_count": 43,
   "metadata": {},
   "outputs": [
    {
     "data": {
      "image/png": "[encoded data removed]",
      "text/plain": [
       "<Figure size 432x288 with 1 Axes>"
      ]
     },
     "metadata": {
      "needs_background": "light"
     },
     "output_type": "display_data"
    }
   ],
   "source": [
    "plt.bar(feature_variances1.index, feature_variances1.values, color='skyblue', edgecolor='black')\n",
    "\n",
    "plt.xlabel('Features')\n",
    "plt.ylabel('Variance')\n",
    "plt.title('Variance of Each Feature')\n",
    "\n",
    "plt.show()"
   ]
  },
  {
   "cell_type": "markdown",
   "metadata": {},
   "source": [
    "### Cluster 2 "
   ]
  },
  {
   "cell_type": "code",
   "execution_count": 44,
   "metadata": {},
   "outputs": [],
   "source": [
    "cluster_2=df[df['k_means']==2]"
   ]
  },
  {
   "cell_type": "code",
   "execution_count": 45,
   "metadata": {},
   "outputs": [
    {
     "data": {
      "text/html": [
       "<div>\n",
       "<style scoped>\n",
       "    .dataframe tbody tr th:only-of-type {\n",
       "        vertical-align: middle;\n",
       "    }\n",
       "\n",
       "    .dataframe tbody tr th {\n",
       "        vertical-align: top;\n",
       "    }\n",
       "\n",
       "    .dataframe thead th {\n",
       "        text-align: right;\n",
       "    }\n",
       "</style>\n",
       "<table border=\"1\" class=\"dataframe\">\n",
       "  <thead>\n",
       "    <tr style=\"text-align: right;\">\n",
       "      <th></th>\n",
       "      <th>Income Classification</th>\n",
       "      <th>Severe Wasting</th>\n",
       "      <th>Wasting</th>\n",
       "      <th>Overweight</th>\n",
       "      <th>Stunting</th>\n",
       "      <th>Underweight</th>\n",
       "      <th>U5 Population ('000s)</th>\n",
       "      <th>k_means</th>\n",
       "    </tr>\n",
       "  </thead>\n",
       "  <tbody>\n",
       "    <tr>\n",
       "      <th>count</th>\n",
       "      <td>21.0</td>\n",
       "      <td>21.000000</td>\n",
       "      <td>21.000000</td>\n",
       "      <td>21.000000</td>\n",
       "      <td>21.000000</td>\n",
       "      <td>21.000000</td>\n",
       "      <td>21.000000</td>\n",
       "      <td>21.0</td>\n",
       "    </tr>\n",
       "    <tr>\n",
       "      <th>mean</th>\n",
       "      <td>3.0</td>\n",
       "      <td>1.149734</td>\n",
       "      <td>3.090389</td>\n",
       "      <td>7.405151</td>\n",
       "      <td>9.062615</td>\n",
       "      <td>4.766757</td>\n",
       "      <td>2054.896719</td>\n",
       "      <td>2.0</td>\n",
       "    </tr>\n",
       "    <tr>\n",
       "      <th>std</th>\n",
       "      <td>0.0</td>\n",
       "      <td>1.064351</td>\n",
       "      <td>2.397874</td>\n",
       "      <td>3.274793</td>\n",
       "      <td>6.950668</td>\n",
       "      <td>3.680045</td>\n",
       "      <td>4378.804771</td>\n",
       "      <td>0.0</td>\n",
       "    </tr>\n",
       "    <tr>\n",
       "      <th>min</th>\n",
       "      <td>3.0</td>\n",
       "      <td>0.000000</td>\n",
       "      <td>0.000000</td>\n",
       "      <td>1.500000</td>\n",
       "      <td>1.000000</td>\n",
       "      <td>0.100000</td>\n",
       "      <td>8.106500</td>\n",
       "      <td>2.0</td>\n",
       "    </tr>\n",
       "    <tr>\n",
       "      <th>25%</th>\n",
       "      <td>3.0</td>\n",
       "      <td>0.333333</td>\n",
       "      <td>1.366667</td>\n",
       "      <td>5.550000</td>\n",
       "      <td>2.914286</td>\n",
       "      <td>1.500000</td>\n",
       "      <td>113.713333</td>\n",
       "      <td>2.0</td>\n",
       "    </tr>\n",
       "    <tr>\n",
       "      <th>50%</th>\n",
       "      <td>3.0</td>\n",
       "      <td>1.000000</td>\n",
       "      <td>2.383333</td>\n",
       "      <td>7.500000</td>\n",
       "      <td>7.100000</td>\n",
       "      <td>4.300000</td>\n",
       "      <td>346.002667</td>\n",
       "      <td>2.0</td>\n",
       "    </tr>\n",
       "    <tr>\n",
       "      <th>75%</th>\n",
       "      <td>3.0</td>\n",
       "      <td>1.872500</td>\n",
       "      <td>3.700000</td>\n",
       "      <td>9.166667</td>\n",
       "      <td>14.242857</td>\n",
       "      <td>6.950000</td>\n",
       "      <td>1951.373000</td>\n",
       "      <td>2.0</td>\n",
       "    </tr>\n",
       "    <tr>\n",
       "      <th>max</th>\n",
       "      <td>3.0</td>\n",
       "      <td>4.500000</td>\n",
       "      <td>7.783333</td>\n",
       "      <td>13.875000</td>\n",
       "      <td>24.160000</td>\n",
       "      <td>11.916667</td>\n",
       "      <td>20077.909571</td>\n",
       "      <td>2.0</td>\n",
       "    </tr>\n",
       "  </tbody>\n",
       "</table>\n",
       "</div>"
      ],
      "text/plain": [
       "       Income Classification  Severe Wasting    Wasting  Overweight  \\\n",
       "count                   21.0       21.000000  21.000000   21.000000   \n",
       "mean                     3.0        1.149734   3.090389    7.405151   \n",
       "std                      0.0        1.064351   2.397874    3.274793   \n",
       "min                      3.0        0.000000   0.000000    1.500000   \n",
       "25%                      3.0        0.333333   1.366667    5.550000   \n",
       "50%                      3.0        1.000000   2.383333    7.500000   \n",
       "75%                      3.0        1.872500   3.700000    9.166667   \n",
       "max                      3.0        4.500000   7.783333   13.875000   \n",
       "\n",
       "        Stunting  Underweight  U5 Population ('000s)  k_means  \n",
       "count  21.000000    21.000000              21.000000     21.0  \n",
       "mean    9.062615     4.766757            2054.896719      2.0  \n",
       "std     6.950668     3.680045            4378.804771      0.0  \n",
       "min     1.000000     0.100000               8.106500      2.0  \n",
       "25%     2.914286     1.500000             113.713333      2.0  \n",
       "50%     7.100000     4.300000             346.002667      2.0  \n",
       "75%    14.242857     6.950000            1951.373000      2.0  \n",
       "max    24.160000    11.916667           20077.909571      2.0  "
      ]
     },
     "execution_count": 45,
     "metadata": {},
     "output_type": "execute_result"
    }
   ],
   "source": [
    "cluster_2.describe()"
   ]
  },
  {
   "cell_type": "code",
   "execution_count": 61,
   "metadata": {},
   "outputs": [
    {
     "data": {
      "text/html": [
       "<div>\n",
       "<style scoped>\n",
       "    .dataframe tbody tr th:only-of-type {\n",
       "        vertical-align: middle;\n",
       "    }\n",
       "\n",
       "    .dataframe tbody tr th {\n",
       "        vertical-align: top;\n",
       "    }\n",
       "\n",
       "    .dataframe thead th {\n",
       "        text-align: right;\n",
       "    }\n",
       "</style>\n",
       "<table border=\"1\" class=\"dataframe\">\n",
       "  <thead>\n",
       "    <tr style=\"text-align: right;\">\n",
       "      <th></th>\n",
       "      <th>Country</th>\n",
       "      <th>Income Classification</th>\n",
       "      <th>Severe Wasting</th>\n",
       "      <th>Wasting</th>\n",
       "      <th>Overweight</th>\n",
       "      <th>Stunting</th>\n",
       "      <th>Underweight</th>\n",
       "      <th>U5 Population ('000s)</th>\n",
       "      <th>k_means</th>\n",
       "    </tr>\n",
       "  </thead>\n",
       "  <tbody>\n",
       "    <tr>\n",
       "      <th>6</th>\n",
       "      <td>AUSTRALIA</td>\n",
       "      <td>3.0</td>\n",
       "      <td>0.0000</td>\n",
       "      <td>0.0000</td>\n",
       "      <td>13.875</td>\n",
       "      <td>1.00</td>\n",
       "      <td>0.10</td>\n",
       "      <td>1443.0745</td>\n",
       "      <td>2</td>\n",
       "    </tr>\n",
       "    <tr>\n",
       "      <th>8</th>\n",
       "      <td>BAHRAIN</td>\n",
       "      <td>3.0</td>\n",
       "      <td>1.8725</td>\n",
       "      <td>6.7000</td>\n",
       "      <td>7.500</td>\n",
       "      <td>13.75</td>\n",
       "      <td>6.95</td>\n",
       "      <td>63.3710</td>\n",
       "      <td>2</td>\n",
       "    </tr>\n",
       "    <tr>\n",
       "      <th>10</th>\n",
       "      <td>BARBADOS</td>\n",
       "      <td>3.0</td>\n",
       "      <td>2.0000</td>\n",
       "      <td>6.8000</td>\n",
       "      <td>12.200</td>\n",
       "      <td>7.70</td>\n",
       "      <td>3.50</td>\n",
       "      <td>16.6530</td>\n",
       "      <td>2</td>\n",
       "    </tr>\n",
       "    <tr>\n",
       "      <th>19</th>\n",
       "      <td>BRUNEI DARUSSALAM</td>\n",
       "      <td>3.0</td>\n",
       "      <td>0.4000</td>\n",
       "      <td>2.9000</td>\n",
       "      <td>8.300</td>\n",
       "      <td>19.70</td>\n",
       "      <td>9.60</td>\n",
       "      <td>31.3370</td>\n",
       "      <td>2</td>\n",
       "    </tr>\n",
       "    <tr>\n",
       "      <th>26</th>\n",
       "      <td>CANADA</td>\n",
       "      <td>3.0</td>\n",
       "      <td>1.8725</td>\n",
       "      <td>1.8725</td>\n",
       "      <td>10.400</td>\n",
       "      <td>24.16</td>\n",
       "      <td>10.38</td>\n",
       "      <td>1697.6030</td>\n",
       "      <td>2</td>\n",
       "    </tr>\n",
       "  </tbody>\n",
       "</table>\n",
       "</div>"
      ],
      "text/plain": [
       "              Country  Income Classification  Severe Wasting  Wasting  \\\n",
       "6           AUSTRALIA                    3.0          0.0000   0.0000   \n",
       "8             BAHRAIN                    3.0          1.8725   6.7000   \n",
       "10           BARBADOS                    3.0          2.0000   6.8000   \n",
       "19  BRUNEI DARUSSALAM                    3.0          0.4000   2.9000   \n",
       "26             CANADA                    3.0          1.8725   1.8725   \n",
       "\n",
       "    Overweight  Stunting  Underweight  U5 Population ('000s)  k_means  \n",
       "6       13.875      1.00         0.10              1443.0745        2  \n",
       "8        7.500     13.75         6.95                63.3710        2  \n",
       "10      12.200      7.70         3.50                16.6530        2  \n",
       "19       8.300     19.70         9.60                31.3370        2  \n",
       "26      10.400     24.16        10.38              1697.6030        2  "
      ]
     },
     "execution_count": 61,
     "metadata": {},
     "output_type": "execute_result"
    }
   ],
   "source": [
    "cluster_2.head()"
   ]
  },
  {
   "cell_type": "code",
   "execution_count": 46,
   "metadata": {},
   "outputs": [],
   "source": [
    "feature_variances2 = cluster_2.std()\n",
    "\n",
    "feature_variances2= cluster_2.drop(columns = [\"U5 Population ('000s)\", \"k_means\"]).std()"
   ]
  },
  {
   "cell_type": "code",
   "execution_count": 47,
   "metadata": {},
   "outputs": [
    {
     "data": {
      "image/png": "[encoded data removed]",
      "text/plain": [
       "<Figure size 432x288 with 1 Axes>"
      ]
     },
     "metadata": {
      "needs_background": "light"
     },
     "output_type": "display_data"
    }
   ],
   "source": [
    "plt.bar(feature_variances2.index, feature_variances2.values, color='skyblue', edgecolor='black')\n",
    "\n",
    "plt.xlabel('Features')\n",
    "plt.ylabel('Variance')\n",
    "plt.title('Variance of Each Feature')\n",
    "\n",
    "plt.show()"
   ]
  },
  {
   "cell_type": "markdown",
   "metadata": {},
   "source": [
    "### Cluster 3 "
   ]
  },
  {
   "cell_type": "code",
   "execution_count": 48,
   "metadata": {},
   "outputs": [],
   "source": [
    "cluster_3=df[df['k_means']==3]"
   ]
  },
  {
   "cell_type": "code",
   "execution_count": 49,
   "metadata": {},
   "outputs": [
    {
     "data": {
      "text/html": [
       "<div>\n",
       "<style scoped>\n",
       "    .dataframe tbody tr th:only-of-type {\n",
       "        vertical-align: middle;\n",
       "    }\n",
       "\n",
       "    .dataframe tbody tr th {\n",
       "        vertical-align: top;\n",
       "    }\n",
       "\n",
       "    .dataframe thead th {\n",
       "        text-align: right;\n",
       "    }\n",
       "</style>\n",
       "<table border=\"1\" class=\"dataframe\">\n",
       "  <thead>\n",
       "    <tr style=\"text-align: right;\">\n",
       "      <th></th>\n",
       "      <th>Income Classification</th>\n",
       "      <th>Severe Wasting</th>\n",
       "      <th>Wasting</th>\n",
       "      <th>Overweight</th>\n",
       "      <th>Stunting</th>\n",
       "      <th>Underweight</th>\n",
       "      <th>U5 Population ('000s)</th>\n",
       "      <th>k_means</th>\n",
       "    </tr>\n",
       "  </thead>\n",
       "  <tbody>\n",
       "    <tr>\n",
       "      <th>count</th>\n",
       "      <td>33.000000</td>\n",
       "      <td>33.000000</td>\n",
       "      <td>33.000000</td>\n",
       "      <td>33.000000</td>\n",
       "      <td>33.000000</td>\n",
       "      <td>33.000000</td>\n",
       "      <td>33.000000</td>\n",
       "      <td>33.0</td>\n",
       "    </tr>\n",
       "    <tr>\n",
       "      <th>mean</th>\n",
       "      <td>1.151515</td>\n",
       "      <td>1.935281</td>\n",
       "      <td>6.004740</td>\n",
       "      <td>7.709003</td>\n",
       "      <td>31.228476</td>\n",
       "      <td>12.571607</td>\n",
       "      <td>1424.515008</td>\n",
       "      <td>3.0</td>\n",
       "    </tr>\n",
       "    <tr>\n",
       "      <th>std</th>\n",
       "      <td>0.441674</td>\n",
       "      <td>1.126404</td>\n",
       "      <td>3.399826</td>\n",
       "      <td>3.794174</td>\n",
       "      <td>7.848591</td>\n",
       "      <td>4.356434</td>\n",
       "      <td>1926.004248</td>\n",
       "      <td>0.0</td>\n",
       "    </tr>\n",
       "    <tr>\n",
       "      <th>min</th>\n",
       "      <td>0.000000</td>\n",
       "      <td>0.275000</td>\n",
       "      <td>1.700000</td>\n",
       "      <td>2.115385</td>\n",
       "      <td>19.916667</td>\n",
       "      <td>4.366667</td>\n",
       "      <td>1.000000</td>\n",
       "      <td>3.0</td>\n",
       "    </tr>\n",
       "    <tr>\n",
       "      <th>25%</th>\n",
       "      <td>1.000000</td>\n",
       "      <td>1.100000</td>\n",
       "      <td>3.500000</td>\n",
       "      <td>4.800000</td>\n",
       "      <td>26.600000</td>\n",
       "      <td>8.640000</td>\n",
       "      <td>107.675000</td>\n",
       "      <td>3.0</td>\n",
       "    </tr>\n",
       "    <tr>\n",
       "      <th>50%</th>\n",
       "      <td>1.000000</td>\n",
       "      <td>1.872500</td>\n",
       "      <td>5.790000</td>\n",
       "      <td>7.228571</td>\n",
       "      <td>29.728571</td>\n",
       "      <td>12.750000</td>\n",
       "      <td>642.159000</td>\n",
       "      <td>3.0</td>\n",
       "    </tr>\n",
       "    <tr>\n",
       "      <th>75%</th>\n",
       "      <td>1.000000</td>\n",
       "      <td>2.425000</td>\n",
       "      <td>7.622222</td>\n",
       "      <td>9.925000</td>\n",
       "      <td>34.800000</td>\n",
       "      <td>16.750000</td>\n",
       "      <td>2083.494500</td>\n",
       "      <td>3.0</td>\n",
       "    </tr>\n",
       "    <tr>\n",
       "      <th>max</th>\n",
       "      <td>2.000000</td>\n",
       "      <td>5.400000</td>\n",
       "      <td>17.000000</td>\n",
       "      <td>17.825000</td>\n",
       "      <td>54.100000</td>\n",
       "      <td>19.575000</td>\n",
       "      <td>8911.539818</td>\n",
       "      <td>3.0</td>\n",
       "    </tr>\n",
       "  </tbody>\n",
       "</table>\n",
       "</div>"
      ],
      "text/plain": [
       "       Income Classification  Severe Wasting    Wasting  Overweight  \\\n",
       "count              33.000000       33.000000  33.000000   33.000000   \n",
       "mean                1.151515        1.935281   6.004740    7.709003   \n",
       "std                 0.441674        1.126404   3.399826    3.794174   \n",
       "min                 0.000000        0.275000   1.700000    2.115385   \n",
       "25%                 1.000000        1.100000   3.500000    4.800000   \n",
       "50%                 1.000000        1.872500   5.790000    7.228571   \n",
       "75%                 1.000000        2.425000   7.622222    9.925000   \n",
       "max                 2.000000        5.400000  17.000000   17.825000   \n",
       "\n",
       "        Stunting  Underweight  U5 Population ('000s)  k_means  \n",
       "count  33.000000    33.000000              33.000000     33.0  \n",
       "mean   31.228476    12.571607            1424.515008      3.0  \n",
       "std     7.848591     4.356434            1926.004248      0.0  \n",
       "min    19.916667     4.366667               1.000000      3.0  \n",
       "25%    26.600000     8.640000             107.675000      3.0  \n",
       "50%    29.728571    12.750000             642.159000      3.0  \n",
       "75%    34.800000    16.750000            2083.494500      3.0  \n",
       "max    54.100000    19.575000            8911.539818      3.0  "
      ]
     },
     "execution_count": 49,
     "metadata": {},
     "output_type": "execute_result"
    }
   ],
   "source": [
    "cluster_3.describe()"
   ]
  },
  {
   "cell_type": "code",
   "execution_count": 63,
   "metadata": {},
   "outputs": [
    {
     "data": {
      "text/html": [
       "<div>\n",
       "<style scoped>\n",
       "    .dataframe tbody tr th:only-of-type {\n",
       "        vertical-align: middle;\n",
       "    }\n",
       "\n",
       "    .dataframe tbody tr th {\n",
       "        vertical-align: top;\n",
       "    }\n",
       "\n",
       "    .dataframe thead th {\n",
       "        text-align: right;\n",
       "    }\n",
       "</style>\n",
       "<table border=\"1\" class=\"dataframe\">\n",
       "  <thead>\n",
       "    <tr style=\"text-align: right;\">\n",
       "      <th></th>\n",
       "      <th>Country</th>\n",
       "      <th>Income Classification</th>\n",
       "      <th>Severe Wasting</th>\n",
       "      <th>Wasting</th>\n",
       "      <th>Overweight</th>\n",
       "      <th>Stunting</th>\n",
       "      <th>Underweight</th>\n",
       "      <th>U5 Population ('000s)</th>\n",
       "      <th>k_means</th>\n",
       "    </tr>\n",
       "  </thead>\n",
       "  <tbody>\n",
       "    <tr>\n",
       "      <th>14</th>\n",
       "      <td>BHUTAN</td>\n",
       "      <td>1.0</td>\n",
       "      <td>1.400000</td>\n",
       "      <td>4.525000</td>\n",
       "      <td>5.100000</td>\n",
       "      <td>44.250000</td>\n",
       "      <td>17.800000</td>\n",
       "      <td>74.796750</td>\n",
       "      <td>3</td>\n",
       "    </tr>\n",
       "    <tr>\n",
       "      <th>15</th>\n",
       "      <td>BOLIVIA (PLURINATIONAL STATE OF)</td>\n",
       "      <td>1.0</td>\n",
       "      <td>0.700000</td>\n",
       "      <td>1.900000</td>\n",
       "      <td>8.600000</td>\n",
       "      <td>29.728571</td>\n",
       "      <td>7.472727</td>\n",
       "      <td>1104.222182</td>\n",
       "      <td>3</td>\n",
       "    </tr>\n",
       "    <tr>\n",
       "      <th>17</th>\n",
       "      <td>BOTSWANA</td>\n",
       "      <td>2.0</td>\n",
       "      <td>2.850000</td>\n",
       "      <td>8.800000</td>\n",
       "      <td>10.050000</td>\n",
       "      <td>31.033333</td>\n",
       "      <td>12.666667</td>\n",
       "      <td>226.709000</td>\n",
       "      <td>3</td>\n",
       "    </tr>\n",
       "    <tr>\n",
       "      <th>23</th>\n",
       "      <td>CABO VERDE</td>\n",
       "      <td>1.0</td>\n",
       "      <td>1.872500</td>\n",
       "      <td>5.550000</td>\n",
       "      <td>6.300000</td>\n",
       "      <td>24.100000</td>\n",
       "      <td>12.750000</td>\n",
       "      <td>60.583000</td>\n",
       "      <td>3</td>\n",
       "    </tr>\n",
       "    <tr>\n",
       "      <th>25</th>\n",
       "      <td>CAMEROON</td>\n",
       "      <td>1.0</td>\n",
       "      <td>1.814286</td>\n",
       "      <td>5.671429</td>\n",
       "      <td>8.042857</td>\n",
       "      <td>33.742857</td>\n",
       "      <td>14.685714</td>\n",
       "      <td>3170.714286</td>\n",
       "      <td>3</td>\n",
       "    </tr>\n",
       "  </tbody>\n",
       "</table>\n",
       "</div>"
      ],
      "text/plain": [
       "                             Country  Income Classification  Severe Wasting  \\\n",
       "14                            BHUTAN                    1.0        1.400000   \n",
       "15  BOLIVIA (PLURINATIONAL STATE OF)                    1.0        0.700000   \n",
       "17                          BOTSWANA                    2.0        2.850000   \n",
       "23                        CABO VERDE                    1.0        1.872500   \n",
       "25                          CAMEROON                    1.0        1.814286   \n",
       "\n",
       "     Wasting  Overweight   Stunting  Underweight  U5 Population ('000s)  \\\n",
       "14  4.525000    5.100000  44.250000    17.800000              74.796750   \n",
       "15  1.900000    8.600000  29.728571     7.472727            1104.222182   \n",
       "17  8.800000   10.050000  31.033333    12.666667             226.709000   \n",
       "23  5.550000    6.300000  24.100000    12.750000              60.583000   \n",
       "25  5.671429    8.042857  33.742857    14.685714            3170.714286   \n",
       "\n",
       "    k_means  \n",
       "14        3  \n",
       "15        3  \n",
       "17        3  \n",
       "23        3  \n",
       "25        3  "
      ]
     },
     "execution_count": 63,
     "metadata": {},
     "output_type": "execute_result"
    }
   ],
   "source": [
    "cluster_3.head()"
   ]
  },
  {
   "cell_type": "code",
   "execution_count": 50,
   "metadata": {},
   "outputs": [],
   "source": [
    "feature_variances3 = cluster_3.std()\n",
    "\n",
    "feature_variances3= cluster_3.drop(columns = [\"U5 Population ('000s)\", \"k_means\"]).std()"
   ]
  },
  {
   "cell_type": "code",
   "execution_count": 51,
   "metadata": {},
   "outputs": [
    {
     "data": {
      "image/png": "[encoded data removed]",
      "text/plain": [
       "<Figure size 432x288 with 1 Axes>"
      ]
     },
     "metadata": {
      "needs_background": "light"
     },
     "output_type": "display_data"
    }
   ],
   "source": [
    "plt.bar(feature_variances3.index, feature_variances3.values, color='skyblue', edgecolor='black')\n",
    "\n",
    "plt.xlabel('Features')\n",
    "plt.ylabel('Variance')\n",
    "plt.title('Variance of Each Feature')\n",
    "\n",
    "plt.show()"
   ]
  },
  {
   "cell_type": "markdown",
   "metadata": {},
   "source": [
    "### Cluster 4 "
   ]
  },
  {
   "cell_type": "code",
   "execution_count": 52,
   "metadata": {},
   "outputs": [],
   "source": [
    "cluster_4=df[df['k_means']==4]"
   ]
  },
  {
   "cell_type": "code",
   "execution_count": 53,
   "metadata": {},
   "outputs": [
    {
     "data": {
      "text/html": [
       "<div>\n",
       "<style scoped>\n",
       "    .dataframe tbody tr th:only-of-type {\n",
       "        vertical-align: middle;\n",
       "    }\n",
       "\n",
       "    .dataframe tbody tr th {\n",
       "        vertical-align: top;\n",
       "    }\n",
       "\n",
       "    .dataframe thead th {\n",
       "        text-align: right;\n",
       "    }\n",
       "</style>\n",
       "<table border=\"1\" class=\"dataframe\">\n",
       "  <thead>\n",
       "    <tr style=\"text-align: right;\">\n",
       "      <th></th>\n",
       "      <th>Income Classification</th>\n",
       "      <th>Severe Wasting</th>\n",
       "      <th>Wasting</th>\n",
       "      <th>Overweight</th>\n",
       "      <th>Stunting</th>\n",
       "      <th>Underweight</th>\n",
       "      <th>U5 Population ('000s)</th>\n",
       "      <th>k_means</th>\n",
       "    </tr>\n",
       "  </thead>\n",
       "  <tbody>\n",
       "    <tr>\n",
       "      <th>count</th>\n",
       "      <td>38.000000</td>\n",
       "      <td>38.000000</td>\n",
       "      <td>38.000000</td>\n",
       "      <td>38.000000</td>\n",
       "      <td>38.000000</td>\n",
       "      <td>38.000000</td>\n",
       "      <td>38.000000</td>\n",
       "      <td>38.0</td>\n",
       "    </tr>\n",
       "    <tr>\n",
       "      <th>mean</th>\n",
       "      <td>1.921053</td>\n",
       "      <td>1.142077</td>\n",
       "      <td>3.802522</td>\n",
       "      <td>7.176745</td>\n",
       "      <td>14.106071</td>\n",
       "      <td>5.375689</td>\n",
       "      <td>4641.656312</td>\n",
       "      <td>4.0</td>\n",
       "    </tr>\n",
       "    <tr>\n",
       "      <th>std</th>\n",
       "      <td>0.273276</td>\n",
       "      <td>0.637270</td>\n",
       "      <td>2.264967</td>\n",
       "      <td>2.126479</td>\n",
       "      <td>6.258172</td>\n",
       "      <td>3.452379</td>\n",
       "      <td>15847.986176</td>\n",
       "      <td>0.0</td>\n",
       "    </tr>\n",
       "    <tr>\n",
       "      <th>min</th>\n",
       "      <td>1.000000</td>\n",
       "      <td>0.200000</td>\n",
       "      <td>0.793333</td>\n",
       "      <td>2.800000</td>\n",
       "      <td>2.500000</td>\n",
       "      <td>1.300000</td>\n",
       "      <td>1.000000</td>\n",
       "      <td>4.0</td>\n",
       "    </tr>\n",
       "    <tr>\n",
       "      <th>25%</th>\n",
       "      <td>2.000000</td>\n",
       "      <td>0.662500</td>\n",
       "      <td>2.234375</td>\n",
       "      <td>5.811184</td>\n",
       "      <td>9.010000</td>\n",
       "      <td>2.830000</td>\n",
       "      <td>216.497750</td>\n",
       "      <td>4.0</td>\n",
       "    </tr>\n",
       "    <tr>\n",
       "      <th>50%</th>\n",
       "      <td>2.000000</td>\n",
       "      <td>0.920526</td>\n",
       "      <td>3.489167</td>\n",
       "      <td>6.660000</td>\n",
       "      <td>13.176667</td>\n",
       "      <td>4.281429</td>\n",
       "      <td>745.487333</td>\n",
       "      <td>4.0</td>\n",
       "    </tr>\n",
       "    <tr>\n",
       "      <th>75%</th>\n",
       "      <td>2.000000</td>\n",
       "      <td>1.568333</td>\n",
       "      <td>4.583333</td>\n",
       "      <td>8.985000</td>\n",
       "      <td>18.997917</td>\n",
       "      <td>7.683333</td>\n",
       "      <td>2889.081824</td>\n",
       "      <td>4.0</td>\n",
       "    </tr>\n",
       "    <tr>\n",
       "      <th>max</th>\n",
       "      <td>2.000000</td>\n",
       "      <td>2.575000</td>\n",
       "      <td>11.600000</td>\n",
       "      <td>12.733333</td>\n",
       "      <td>28.750000</td>\n",
       "      <td>18.140000</td>\n",
       "      <td>97488.133417</td>\n",
       "      <td>4.0</td>\n",
       "    </tr>\n",
       "  </tbody>\n",
       "</table>\n",
       "</div>"
      ],
      "text/plain": [
       "       Income Classification  Severe Wasting    Wasting  Overweight  \\\n",
       "count              38.000000       38.000000  38.000000   38.000000   \n",
       "mean                1.921053        1.142077   3.802522    7.176745   \n",
       "std                 0.273276        0.637270   2.264967    2.126479   \n",
       "min                 1.000000        0.200000   0.793333    2.800000   \n",
       "25%                 2.000000        0.662500   2.234375    5.811184   \n",
       "50%                 2.000000        0.920526   3.489167    6.660000   \n",
       "75%                 2.000000        1.568333   4.583333    8.985000   \n",
       "max                 2.000000        2.575000  11.600000   12.733333   \n",
       "\n",
       "        Stunting  Underweight  U5 Population ('000s)  k_means  \n",
       "count  38.000000    38.000000              38.000000     38.0  \n",
       "mean   14.106071     5.375689            4641.656312      4.0  \n",
       "std     6.258172     3.452379           15847.986176      0.0  \n",
       "min     2.500000     1.300000               1.000000      4.0  \n",
       "25%     9.010000     2.830000             216.497750      4.0  \n",
       "50%    13.176667     4.281429             745.487333      4.0  \n",
       "75%    18.997917     7.683333            2889.081824      4.0  \n",
       "max    28.750000    18.140000           97488.133417      4.0  "
      ]
     },
     "execution_count": 53,
     "metadata": {},
     "output_type": "execute_result"
    }
   ],
   "source": [
    "cluster_4.describe()"
   ]
  },
  {
   "cell_type": "code",
   "execution_count": 64,
   "metadata": {},
   "outputs": [
    {
     "data": {
      "text/html": [
       "<div>\n",
       "<style scoped>\n",
       "    .dataframe tbody tr th:only-of-type {\n",
       "        vertical-align: middle;\n",
       "    }\n",
       "\n",
       "    .dataframe tbody tr th {\n",
       "        vertical-align: top;\n",
       "    }\n",
       "\n",
       "    .dataframe thead th {\n",
       "        text-align: right;\n",
       "    }\n",
       "</style>\n",
       "<table border=\"1\" class=\"dataframe\">\n",
       "  <thead>\n",
       "    <tr style=\"text-align: right;\">\n",
       "      <th></th>\n",
       "      <th>Country</th>\n",
       "      <th>Income Classification</th>\n",
       "      <th>Severe Wasting</th>\n",
       "      <th>Wasting</th>\n",
       "      <th>Overweight</th>\n",
       "      <th>Stunting</th>\n",
       "      <th>Underweight</th>\n",
       "      <th>U5 Population ('000s)</th>\n",
       "      <th>k_means</th>\n",
       "    </tr>\n",
       "  </thead>\n",
       "  <tbody>\n",
       "    <tr>\n",
       "      <th>4</th>\n",
       "      <td>ARGENTINA</td>\n",
       "      <td>2.0</td>\n",
       "      <td>0.200000</td>\n",
       "      <td>2.150000</td>\n",
       "      <td>11.125000</td>\n",
       "      <td>10.025000</td>\n",
       "      <td>2.600000</td>\n",
       "      <td>3613.651750</td>\n",
       "      <td>4</td>\n",
       "    </tr>\n",
       "    <tr>\n",
       "      <th>7</th>\n",
       "      <td>AZERBAIJAN</td>\n",
       "      <td>2.0</td>\n",
       "      <td>2.575000</td>\n",
       "      <td>5.433333</td>\n",
       "      <td>9.183333</td>\n",
       "      <td>21.816667</td>\n",
       "      <td>8.083333</td>\n",
       "      <td>740.501667</td>\n",
       "      <td>4</td>\n",
       "    </tr>\n",
       "    <tr>\n",
       "      <th>11</th>\n",
       "      <td>BELARUS</td>\n",
       "      <td>2.0</td>\n",
       "      <td>0.600000</td>\n",
       "      <td>2.200000</td>\n",
       "      <td>9.700000</td>\n",
       "      <td>4.500000</td>\n",
       "      <td>1.300000</td>\n",
       "      <td>445.676000</td>\n",
       "      <td>4</td>\n",
       "    </tr>\n",
       "    <tr>\n",
       "      <th>12</th>\n",
       "      <td>BELIZE</td>\n",
       "      <td>2.0</td>\n",
       "      <td>0.833333</td>\n",
       "      <td>2.333333</td>\n",
       "      <td>9.600000</td>\n",
       "      <td>18.766667</td>\n",
       "      <td>5.300000</td>\n",
       "      <td>36.104500</td>\n",
       "      <td>4</td>\n",
       "    </tr>\n",
       "    <tr>\n",
       "      <th>18</th>\n",
       "      <td>BRAZIL</td>\n",
       "      <td>2.0</td>\n",
       "      <td>0.700000</td>\n",
       "      <td>2.300000</td>\n",
       "      <td>6.250000</td>\n",
       "      <td>13.133333</td>\n",
       "      <td>3.925000</td>\n",
       "      <td>17071.496000</td>\n",
       "      <td>4</td>\n",
       "    </tr>\n",
       "  </tbody>\n",
       "</table>\n",
       "</div>"
      ],
      "text/plain": [
       "       Country  Income Classification  Severe Wasting   Wasting  Overweight  \\\n",
       "4    ARGENTINA                    2.0        0.200000  2.150000   11.125000   \n",
       "7   AZERBAIJAN                    2.0        2.575000  5.433333    9.183333   \n",
       "11     BELARUS                    2.0        0.600000  2.200000    9.700000   \n",
       "12      BELIZE                    2.0        0.833333  2.333333    9.600000   \n",
       "18      BRAZIL                    2.0        0.700000  2.300000    6.250000   \n",
       "\n",
       "     Stunting  Underweight  U5 Population ('000s)  k_means  \n",
       "4   10.025000     2.600000            3613.651750        4  \n",
       "7   21.816667     8.083333             740.501667        4  \n",
       "11   4.500000     1.300000             445.676000        4  \n",
       "12  18.766667     5.300000              36.104500        4  \n",
       "18  13.133333     3.925000           17071.496000        4  "
      ]
     },
     "execution_count": 64,
     "metadata": {},
     "output_type": "execute_result"
    }
   ],
   "source": [
    "cluster_4.head()"
   ]
  },
  {
   "cell_type": "code",
   "execution_count": 54,
   "metadata": {},
   "outputs": [],
   "source": [
    "feature_variances4 = cluster_4.std()\n",
    "\n",
    "feature_variances4 = cluster_4.drop(columns = [\"U5 Population ('000s)\", \"k_means\"]).std()"
   ]
  },
  {
   "cell_type": "code",
   "execution_count": 55,
   "metadata": {},
   "outputs": [
    {
     "data": {
      "image/png": "[encoded data removed]",
      "text/plain": [
       "<Figure size 432x288 with 1 Axes>"
      ]
     },
     "metadata": {
      "needs_background": "light"
     },
     "output_type": "display_data"
    }
   ],
   "source": [
    "plt.bar(feature_variances2.index, feature_variances2.values, color='skyblue', edgecolor='black')\n",
    "\n",
    "plt.xlabel('Features')\n",
    "plt.ylabel('Variance')\n",
    "plt.title('Variance of Each Feature')\n",
    "\n",
    "plt.show()"
   ]
  },
  {
   "cell_type": "markdown",
   "metadata": {},
   "source": [
    "### Cluster 5 "
   ]
  },
  {
   "cell_type": "code",
   "execution_count": 56,
   "metadata": {},
   "outputs": [],
   "source": [
    "cluster_5=df[df['k_means']==5]"
   ]
  },
  {
   "cell_type": "code",
   "execution_count": 57,
   "metadata": {},
   "outputs": [
    {
     "data": {
      "text/html": [
       "<div>\n",
       "<style scoped>\n",
       "    .dataframe tbody tr th:only-of-type {\n",
       "        vertical-align: middle;\n",
       "    }\n",
       "\n",
       "    .dataframe tbody tr th {\n",
       "        vertical-align: top;\n",
       "    }\n",
       "\n",
       "    .dataframe thead th {\n",
       "        text-align: right;\n",
       "    }\n",
       "</style>\n",
       "<table border=\"1\" class=\"dataframe\">\n",
       "  <thead>\n",
       "    <tr style=\"text-align: right;\">\n",
       "      <th></th>\n",
       "      <th>Income Classification</th>\n",
       "      <th>Severe Wasting</th>\n",
       "      <th>Wasting</th>\n",
       "      <th>Overweight</th>\n",
       "      <th>Stunting</th>\n",
       "      <th>Underweight</th>\n",
       "      <th>U5 Population ('000s)</th>\n",
       "      <th>k_means</th>\n",
       "    </tr>\n",
       "  </thead>\n",
       "  <tbody>\n",
       "    <tr>\n",
       "      <th>count</th>\n",
       "      <td>19.000000</td>\n",
       "      <td>19.000000</td>\n",
       "      <td>19.000000</td>\n",
       "      <td>19.000000</td>\n",
       "      <td>19.000000</td>\n",
       "      <td>19.000000</td>\n",
       "      <td>19.000000</td>\n",
       "      <td>19.0</td>\n",
       "    </tr>\n",
       "    <tr>\n",
       "      <th>mean</th>\n",
       "      <td>0.789474</td>\n",
       "      <td>4.961582</td>\n",
       "      <td>15.072101</td>\n",
       "      <td>3.826013</td>\n",
       "      <td>41.350001</td>\n",
       "      <td>32.345195</td>\n",
       "      <td>12238.715620</td>\n",
       "      <td>5.0</td>\n",
       "    </tr>\n",
       "    <tr>\n",
       "      <th>std</th>\n",
       "      <td>0.630604</td>\n",
       "      <td>2.137755</td>\n",
       "      <td>2.926830</td>\n",
       "      <td>2.215248</td>\n",
       "      <td>9.286451</td>\n",
       "      <td>6.889132</td>\n",
       "      <td>28178.898105</td>\n",
       "      <td>0.0</td>\n",
       "    </tr>\n",
       "    <tr>\n",
       "      <th>min</th>\n",
       "      <td>0.000000</td>\n",
       "      <td>2.450000</td>\n",
       "      <td>10.514286</td>\n",
       "      <td>0.962500</td>\n",
       "      <td>21.862500</td>\n",
       "      <td>22.625000</td>\n",
       "      <td>36.045400</td>\n",
       "      <td>5.0</td>\n",
       "    </tr>\n",
       "    <tr>\n",
       "      <th>25%</th>\n",
       "      <td>0.000000</td>\n",
       "      <td>4.073214</td>\n",
       "      <td>13.862143</td>\n",
       "      <td>2.518750</td>\n",
       "      <td>33.960000</td>\n",
       "      <td>26.357576</td>\n",
       "      <td>647.448879</td>\n",
       "      <td>5.0</td>\n",
       "    </tr>\n",
       "    <tr>\n",
       "      <th>50%</th>\n",
       "      <td>1.000000</td>\n",
       "      <td>4.500000</td>\n",
       "      <td>15.242857</td>\n",
       "      <td>3.040000</td>\n",
       "      <td>41.260000</td>\n",
       "      <td>30.871429</td>\n",
       "      <td>2017.326333</td>\n",
       "      <td>5.0</td>\n",
       "    </tr>\n",
       "    <tr>\n",
       "      <th>75%</th>\n",
       "      <td>1.000000</td>\n",
       "      <td>5.037500</td>\n",
       "      <td>15.771250</td>\n",
       "      <td>4.800000</td>\n",
       "      <td>47.863492</td>\n",
       "      <td>37.667857</td>\n",
       "      <td>10694.220250</td>\n",
       "      <td>5.0</td>\n",
       "    </tr>\n",
       "    <tr>\n",
       "      <th>max</th>\n",
       "      <td>2.000000</td>\n",
       "      <td>11.400000</td>\n",
       "      <td>23.650000</td>\n",
       "      <td>8.450000</td>\n",
       "      <td>55.380000</td>\n",
       "      <td>46.266667</td>\n",
       "      <td>123014.491000</td>\n",
       "      <td>5.0</td>\n",
       "    </tr>\n",
       "  </tbody>\n",
       "</table>\n",
       "</div>"
      ],
      "text/plain": [
       "       Income Classification  Severe Wasting    Wasting  Overweight  \\\n",
       "count              19.000000       19.000000  19.000000   19.000000   \n",
       "mean                0.789474        4.961582  15.072101    3.826013   \n",
       "std                 0.630604        2.137755   2.926830    2.215248   \n",
       "min                 0.000000        2.450000  10.514286    0.962500   \n",
       "25%                 0.000000        4.073214  13.862143    2.518750   \n",
       "50%                 1.000000        4.500000  15.242857    3.040000   \n",
       "75%                 1.000000        5.037500  15.771250    4.800000   \n",
       "max                 2.000000       11.400000  23.650000    8.450000   \n",
       "\n",
       "        Stunting  Underweight  U5 Population ('000s)  k_means  \n",
       "count  19.000000    19.000000              19.000000     19.0  \n",
       "mean   41.350001    32.345195           12238.715620      5.0  \n",
       "std     9.286451     6.889132           28178.898105      0.0  \n",
       "min    21.862500    22.625000              36.045400      5.0  \n",
       "25%    33.960000    26.357576             647.448879      5.0  \n",
       "50%    41.260000    30.871429            2017.326333      5.0  \n",
       "75%    47.863492    37.667857           10694.220250      5.0  \n",
       "max    55.380000    46.266667          123014.491000      5.0  "
      ]
     },
     "execution_count": 57,
     "metadata": {},
     "output_type": "execute_result"
    }
   ],
   "source": [
    "cluster_5.describe()"
   ]
  },
  {
   "cell_type": "code",
   "execution_count": 65,
   "metadata": {},
   "outputs": [
    {
     "data": {
      "text/html": [
       "<div>\n",
       "<style scoped>\n",
       "    .dataframe tbody tr th:only-of-type {\n",
       "        vertical-align: middle;\n",
       "    }\n",
       "\n",
       "    .dataframe tbody tr th {\n",
       "        vertical-align: top;\n",
       "    }\n",
       "\n",
       "    .dataframe thead th {\n",
       "        text-align: right;\n",
       "    }\n",
       "</style>\n",
       "<table border=\"1\" class=\"dataframe\">\n",
       "  <thead>\n",
       "    <tr style=\"text-align: right;\">\n",
       "      <th></th>\n",
       "      <th>Country</th>\n",
       "      <th>Income Classification</th>\n",
       "      <th>Severe Wasting</th>\n",
       "      <th>Wasting</th>\n",
       "      <th>Overweight</th>\n",
       "      <th>Stunting</th>\n",
       "      <th>Underweight</th>\n",
       "      <th>U5 Population ('000s)</th>\n",
       "      <th>k_means</th>\n",
       "    </tr>\n",
       "  </thead>\n",
       "  <tbody>\n",
       "    <tr>\n",
       "      <th>9</th>\n",
       "      <td>BANGLADESH</td>\n",
       "      <td>1.0</td>\n",
       "      <td>2.813636</td>\n",
       "      <td>14.537500</td>\n",
       "      <td>0.962500</td>\n",
       "      <td>54.229167</td>\n",
       "      <td>46.266667</td>\n",
       "      <td>15837.427500</td>\n",
       "      <td>5</td>\n",
       "    </tr>\n",
       "    <tr>\n",
       "      <th>24</th>\n",
       "      <td>CAMBODIA</td>\n",
       "      <td>1.0</td>\n",
       "      <td>3.483333</td>\n",
       "      <td>11.466667</td>\n",
       "      <td>3.033333</td>\n",
       "      <td>43.683333</td>\n",
       "      <td>31.983333</td>\n",
       "      <td>1651.662167</td>\n",
       "      <td>5</td>\n",
       "    </tr>\n",
       "    <tr>\n",
       "      <th>28</th>\n",
       "      <td>CHAD</td>\n",
       "      <td>0.0</td>\n",
       "      <td>5.500000</td>\n",
       "      <td>15.240000</td>\n",
       "      <td>3.040000</td>\n",
       "      <td>41.260000</td>\n",
       "      <td>31.400000</td>\n",
       "      <td>2024.290400</td>\n",
       "      <td>5</td>\n",
       "    </tr>\n",
       "    <tr>\n",
       "      <th>40</th>\n",
       "      <td>DJIBOUTI</td>\n",
       "      <td>1.0</td>\n",
       "      <td>9.400000</td>\n",
       "      <td>17.075000</td>\n",
       "      <td>8.250000</td>\n",
       "      <td>30.075000</td>\n",
       "      <td>22.625000</td>\n",
       "      <td>99.445250</td>\n",
       "      <td>5</td>\n",
       "    </tr>\n",
       "    <tr>\n",
       "      <th>46</th>\n",
       "      <td>ERITREA</td>\n",
       "      <td>0.0</td>\n",
       "      <td>4.633333</td>\n",
       "      <td>14.600000</td>\n",
       "      <td>1.666667</td>\n",
       "      <td>53.225000</td>\n",
       "      <td>37.550000</td>\n",
       "      <td>407.654500</td>\n",
       "      <td>5</td>\n",
       "    </tr>\n",
       "  </tbody>\n",
       "</table>\n",
       "</div>"
      ],
      "text/plain": [
       "       Country  Income Classification  Severe Wasting    Wasting  Overweight  \\\n",
       "9   BANGLADESH                    1.0        2.813636  14.537500    0.962500   \n",
       "24    CAMBODIA                    1.0        3.483333  11.466667    3.033333   \n",
       "28        CHAD                    0.0        5.500000  15.240000    3.040000   \n",
       "40    DJIBOUTI                    1.0        9.400000  17.075000    8.250000   \n",
       "46     ERITREA                    0.0        4.633333  14.600000    1.666667   \n",
       "\n",
       "     Stunting  Underweight  U5 Population ('000s)  k_means  \n",
       "9   54.229167    46.266667           15837.427500        5  \n",
       "24  43.683333    31.983333            1651.662167        5  \n",
       "28  41.260000    31.400000            2024.290400        5  \n",
       "40  30.075000    22.625000              99.445250        5  \n",
       "46  53.225000    37.550000             407.654500        5  "
      ]
     },
     "execution_count": 65,
     "metadata": {},
     "output_type": "execute_result"
    }
   ],
   "source": [
    "cluster_5.head()"
   ]
  },
  {
   "cell_type": "code",
   "execution_count": 58,
   "metadata": {},
   "outputs": [],
   "source": [
    "feature_variances5 = cluster_5.std()\n",
    "\n",
    "feature_variances5= cluster_5.drop(columns = [\"U5 Population ('000s)\", \"k_means\"]).std()"
   ]
  },
  {
   "cell_type": "code",
   "execution_count": 59,
   "metadata": {},
   "outputs": [
    {
     "data": {
      "image/png": "[encoded data removed]",
      "text/plain": [
       "<Figure size 432x288 with 1 Axes>"
      ]
     },
     "metadata": {
      "needs_background": "light"
     },
     "output_type": "display_data"
    }
   ],
   "source": [
    "plt.bar(feature_variances5.index, feature_variances2.values, color='skyblue', edgecolor='black')\n",
    "\n",
    "plt.xlabel('Features')\n",
    "plt.ylabel('Variance')\n",
    "plt.title('Variance of Each Feature')\n",
    "\n",
    "plt.show()"
   ]
  },
  {
   "cell_type": "markdown",
   "metadata": {},
   "source": [
    "Thank you for reviewing our Python code on K Means Clustering. In summary, our approach involved initial steps of data understanding and preparation to optimize our model. We then determined the most suitable value for K using the elbow method, followed by evaluating the silhouette score for each K. Once the model was established, we transformed the clustered values into an interactive 2D scatter plot. This dynamic plot allows users to explore clusters by dragging the mouse over data points, revealing the cluster and the coordinates of principal components 1 and 2. Following the visualization, we conducted a persona analysis. This step is crucial because, after clustering the data, it's essential to understand what each cluster represents. By performing persona analysis, we unveil insights into the characteristics defining each cluster, shedding light on the factors influencing the model's clustering decisions. This in-depth understanding enhances the interpretability and practical application of the clustering results."
   ]
  },
  {
   "cell_type": "code",
   "execution_count": null,
   "metadata": {},
   "outputs": [],
   "source": []
  }
 ],
 "metadata": {
  "kernelspec": {
   "display_name": "Python 3 (ipykernel)",
   "language": "python",
   "name": "python3"
  },
  "language_info": {
   "codemirror_mode": {
    "name": "ipython",
    "version": 3
   },
   "file_extension": ".py",
   "mimetype": "text/x-python",
   "name": "python",
   "nbconvert_exporter": "python",
   "pygments_lexer": "ipython3",
   "version": "3.9.12"
  }
 },
 "nbformat": 4,
 "nbformat_minor": 4
}
